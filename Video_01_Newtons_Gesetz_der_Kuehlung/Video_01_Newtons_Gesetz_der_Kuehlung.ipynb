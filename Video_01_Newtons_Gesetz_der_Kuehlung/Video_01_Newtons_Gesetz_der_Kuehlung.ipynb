{
 "cells": [
  {
   "cell_type": "markdown",
   "id": "aa268357-9a7e-41e5-b165-f5506b75ca2a",
   "metadata": {
    "tags": []
   },
   "source": [
    "# Newtons Gesetz der Kühlung\n",
    "## (Numerische Lösung von DGL 1. Ordnung)"
   ]
  },
  {
   "cell_type": "markdown",
   "id": "b9892507-ef2f-4ee2-945a-75634ecb989f",
   "metadata": {},
   "source": [
    "<center><img src=\"figs/Wasserglas.jpg\" width=350 />  <img src=\"figs/Temp_Bonn.png\" width=318 /></center>"
   ]
  },
  {
   "cell_type": "markdown",
   "id": "0689803a-98b4-49af-9cc0-45fc8dc8f582",
   "metadata": {},
   "source": [
    "$$\n",
    "\\frac{{\\rm d}T(t)}{{\\rm d}t} = k\\cdot (T(t)-T_{\\rm ext}(t)); \\quad k = -1.8; \\quad T(0) = 7.; \\quad T_{\\rm ext}(t)=28.5 + 7\\sin\\left(\\frac{2\\pi}{24}(t+15.9)\\right)\n",
    "$$"
   ]
  },
  {
   "cell_type": "markdown",
   "id": "5090a693-4fcf-4995-9f09-11eb46a73725",
   "metadata": {
    "tags": []
   },
   "source": [
    "## DGL 1. Ordnung in Python"
   ]
  },
  {
   "cell_type": "markdown",
   "id": "6924d75a-5251-4b2f-9da1-4efa24cbff98",
   "metadata": {},
   "source": [
    "Allgemein:\n",
    "$$\n",
    "\\frac{dy}{dx} = f(x, y); \\quad y(x_0) = y_0\n",
    "$$\n",
    "Hier:\n",
    "$$\n",
    "\\frac{dT}{dt} = \\dot{T}(t) = g(T, t); \\quad T(t_0) = T_0\n",
    "$$\n",
    "<center><img src=\"figs/dgl_field.png\" width=600 /></center>"
   ]
  },
  {
   "cell_type": "markdown",
   "id": "a0726e29-280d-44c4-aff8-f5c3a8f9776c",
   "metadata": {},
   "source": [
    "## Lösung unseres Problems"
   ]
  },
  {
   "cell_type": "code",
   "execution_count": null,
   "id": "9ecd5412-2c0f-4f46-a032-2fdff831bdbf",
   "metadata": {},
   "outputs": [],
   "source": [
    "import numpy as np\n",
    "import matplotlib.pyplot as plt\n",
    "from scipy.integrate import odeint\n",
    "\n",
    "def T_ext(t):\n",
    "    return 28.5 + 7. * np.sin(2. * np.pi / 24. * (t + 15.9))"
   ]
  },
  {
   "cell_type": "markdown",
   "id": "8ce54c86-4319-4e81-82d1-e82a64b7487c",
   "metadata": {},
   "source": [
    "1. Bringe die Ableitung der DGL auf die linke Seite und alle anderen Terme auf die rechte Seite der Gleichung:\n",
    "$$\n",
    "\\frac{{\\rm d}T(t)}{{\\rm d}t} = k\\cdot (T(t)-T_{\\rm ext}(t))\n",
    "$$"
   ]
  },
  {
   "cell_type": "markdown",
   "id": "68b7821a-4faa-4c26-868e-52610c20624b",
   "metadata": {},
   "source": [
    "2. definiere Python-Funktion mit Argumenten (T, t, ...) und Rückgabewert ${\\rm d}T/{\\rm d}t$: "
   ]
  },
  {
   "cell_type": "code",
   "execution_count": null,
   "id": "7d7c210e-d6cc-45e7-a41d-234d6eccfcaf",
   "metadata": {},
   "outputs": [],
   "source": [
    "## SOLUTION\n",
    "def dTdt(T, t, k):\n",
    "    return k * (T - T_ext(t))"
   ]
  },
  {
   "cell_type": "markdown",
   "id": "b299ddd0-6db9-4234-a58b-e30a0971369f",
   "metadata": {},
   "source": [
    "3. definiere Zeiten, an denen die DGL gelöst werden soll, die Anfangsbedingung und nötige Konstanten. Zuletzt mit allem die DGL-Routine aufrufen:"
   ]
  },
  {
   "cell_type": "code",
   "execution_count": null,
   "id": "dfb1be21-d592-4d76-ae0e-404d4257ecb4",
   "metadata": {},
   "outputs": [],
   "source": [
    "## SOLUTION\n",
    "t = np.linspace(0.0, 23.9, 100)\n",
    "T0 = 7\n",
    "k = -1.8\n",
    "\n",
    "T_Wasser = odeint(dTdt, t=t, y0=T0, args=(k,)).T[0]"
   ]
  },
  {
   "cell_type": "markdown",
   "id": "5852e7aa-4d4b-406c-9d9c-111f1e1cf67f",
   "metadata": {},
   "source": [
    "4. Plotten und/oder die Lösung anders weiterverarbeiten: "
   ]
  },
  {
   "cell_type": "code",
   "execution_count": null,
   "id": "5f9ea14c-4565-4256-8436-32b2abf6d03b",
   "metadata": {},
   "outputs": [],
   "source": [
    "## SOLUTION\n",
    "T_Bonn = T_ext(t)\n",
    "plt.plot(t, T_Bonn, t, T_Wasser)\n",
    "plt.vlines(12, 8, 37)    # Mittag\n",
    "# Wann ist das Wasser heisser als die Umgebung?\n",
    "plt.vlines(14.726, 8, 37)  # aus Zelle weiter unten"
   ]
  },
  {
   "cell_type": "markdown",
   "id": "e972b203-053c-475a-a9fc-43c71e7dcc8a",
   "metadata": {},
   "source": [
    "Ab wann ist das Wasser heißer als die Umgebungstemperatur?"
   ]
  },
  {
   "cell_type": "code",
   "execution_count": null,
   "id": "ba8a65a7-54f3-418a-b484-e7adca8c5b82",
   "metadata": {},
   "outputs": [],
   "source": [
    "## SOLUTION\n",
    "mask = T_Wasser > T_Bonn\n",
    "t[mask]"
   ]
  }
 ],
 "metadata": {
  "kernelspec": {
   "display_name": "Python 3 (ipykernel)",
   "language": "python",
   "name": "python3"
  },
  "language_info": {
   "codemirror_mode": {
    "name": "ipython",
    "version": 3
   },
   "file_extension": ".py",
   "mimetype": "text/x-python",
   "name": "python",
   "nbconvert_exporter": "python",
   "pygments_lexer": "ipython3",
   "version": "3.9.16"
  },
  "toc-autonumbering": false,
  "toc-showcode": false,
  "toc-showtags": false
 },
 "nbformat": 4,
 "nbformat_minor": 5
}
