{
 "cells": [
  {
   "cell_type": "markdown",
   "id": "0883a18a-e784-4a25-ac2e-3a0caee0a3f1",
   "metadata": {},
   "source": [
    "# Ein anharmonischer Oszillator\n",
    "\n",
    "## Symbolische und numerische Lösung eines physikalischen Systems"
   ]
  },
  {
   "cell_type": "markdown",
   "id": "15da77d8-7f8c-4ad2-82df-371ae5d5841c",
   "metadata": {},
   "source": [
    "Wir wollen uns mit SymPy, NumPy und SciPy die Entwicklung eines Oszilatorsystems ansehen, welches analytisch nicht mehr komplett behandelt werden kann."
   ]
  },
  {
   "cell_type": "markdown",
   "id": "45894f6b-8f25-4ba7-af6a-5b0f4e0816cc",
   "metadata": {},
   "source": [
    "<img src=\"figs/Anharmonischer_Oszillator.png\" style=\"margin:25px;\" align=\"left\" width=300 />\n",
    "\n",
    "<br />\n",
    "\n",
    "  Vektoren:\n",
    "  \n",
    "  - $\\vec{e}_1=\\begin{pmatrix} 1 \\\\ 0 \\end{pmatrix}$, $\\vec{e}_2=\\begin{pmatrix} 0 \\\\ 1 \\end{pmatrix}$\n",
    "  - $\\vec{r}_1 = P-P_1$, $\\vec{r}_2 = P-P_2$\n",
    "  - $\\vec{e}_{r1} = \\frac{\\vec{r}_1}{|\\vec{r}_1|}$, $\\vec{e}_{r2} = \\frac{\\vec{r}_2}{|\\vec{r}_2|}$\n",
    "\n",
    "  Federauslenkung und Federkraft:\n",
    "  \n",
    "  - $\\Delta_1 = |\\vec{r}_1|-l_1$, $\\Delta_2 = |\\vec{r}_2|-l_2$\n",
    "  - $\\vec{F}_1 = -k_1\\Delta_1\\vec{e}_{r1}$, $\\vec{F}_2 = -k_2\\Delta_2\\vec{e}_{r2}$\n",
    "  - $\\vec{F} = \\vec{F}_1 + \\vec{F}_2\\qquad\\text{ (Gesamtkraft)}$\n",
    "\n",
    "  Bewegungsgleichungen:\n",
    "\n",
    "  $\\boxed{m\\begin{pmatrix} \\ddot{x_1} \\\\ \\ddot{x_2} \\end{pmatrix} = \\begin{pmatrix} \\vec{F}\\cdot\\vec{e}_1 \\\\ \\vec{F}\\cdot\\vec{e}_2 \\end{pmatrix}}$"
   ]
  },
  {
   "cell_type": "code",
   "execution_count": null,
   "id": "9543c83b-3c66-4465-ad96-0946c2ce71fe",
   "metadata": {},
   "outputs": [],
   "source": [
    "%matplotlib inline\n",
    "\n",
    "# Symbolisches Aufstellen der Bewegungsgleichunbgen\n",
    "import sympy as sp\n",
    "\n",
    "# Numerische Lösung der Bewegungsgleichungen \n",
    "import numpy as np\n",
    "import scipy.integrate as si\n",
    "import matplotlib.pyplot as plt\n",
    "\n",
    "# Animation des Oszillators\n",
    "from matplotlib import animation\n",
    "\n",
    "# Nötiges Modul, um die Federn in den Animationen \n",
    "# zu zeichnen (eigenes Modul)\n",
    "import spring"
   ]
  },
  {
   "cell_type": "markdown",
   "id": "3ba868a8-f8e3-400a-88aa-34930bf7e002",
   "metadata": {},
   "source": [
    "## 1. Symbolische Herleitung der Bewegungsgleichungen mit SymPy"
   ]
  },
  {
   "cell_type": "markdown",
   "id": "289a829e-21ba-4127-92ed-7f75b6240e7e",
   "metadata": {},
   "source": [
    "### 1.1. Definiere SymPy-Variable für das Federsystem"
   ]
  },
  {
   "cell_type": "code",
   "execution_count": null,
   "id": "d5db4b99-f928-4f58-97e5-dc88c32c5705",
   "metadata": {},
   "outputs": [],
   "source": [
    "# Größen für das Federsystem\n",
    "m, l1, l2, k1, k2 = sp.symbols('m, l_1, l_2, k_1, k_2', real=True, positive=True)\n",
    "\n",
    "t = sp.symbols('t', real=True)\n",
    "x1, x2 = sp.symbols('x_1, x_2', cls=sp.Function, real=True)\n",
    "x1 = x1(t)\n",
    "x2 = x2(t)"
   ]
  },
  {
   "cell_type": "markdown",
   "id": "4791834b-7986-40f7-a1ec-c7ab56771e66",
   "metadata": {},
   "source": [
    "### 1.2. Definiere die notwendigen Vektorgrößen"
   ]
  },
  {
   "cell_type": "code",
   "execution_count": null,
   "id": "0110d376-e874-4398-8160-4d5e4508fa8e",
   "metadata": {},
   "outputs": [],
   "source": [
    "## SOLUTION\n",
    "\n",
    "# Definition der Vektoren\n",
    "#\n",
    "e1 = sp.Matrix([1, 0])\n",
    "e2 = sp.Matrix([0, 1])\n",
    "\n",
    "P = sp.Matrix([x1, x2])\n",
    "P1 = sp.Matrix([-l1, 0])\n",
    "P2 = sp.Matrix([0, -l2])\n",
    "\n",
    "r1 = P - P1\n",
    "r2 = P - P2\n",
    "\n",
    "er1 = r1 / r1.norm()\n",
    "er2 = r2 / r2.norm()"
   ]
  },
  {
   "cell_type": "markdown",
   "id": "0334954c-39fc-4387-9064-562376938621",
   "metadata": {},
   "source": [
    "### 1.3. Definiere Federauslenkungen und Federkraft"
   ]
  },
  {
   "cell_type": "code",
   "execution_count": null,
   "id": "467f3886-3cc9-4280-8fde-62241d90601d",
   "metadata": {},
   "outputs": [],
   "source": [
    "## SOLUTION\n",
    "\n",
    "# Auslenkung des Federsystems und die Federkraft\n",
    "Delta1 = r1.norm() - l1\n",
    "Delta2 = r2.norm() - l2\n",
    "\n",
    "F1 = -k1 * Delta1 * er1\n",
    "F2 = -k2 * Delta2 * er2\n",
    "\n",
    "F = F1 + F2\n",
    "F"
   ]
  },
  {
   "cell_type": "markdown",
   "id": "fc3c09ae-315f-41c2-94db-d17ad03c04da",
   "metadata": {},
   "source": [
    "### 1.4. Stelle die Bewegungsgleichungen auf (symbolisch)"
   ]
  },
  {
   "cell_type": "code",
   "execution_count": null,
   "id": "c010aede-554b-4d05-a6d7-8b48a37f6df8",
   "metadata": {},
   "outputs": [],
   "source": [
    "## SOLUTION\n",
    "\n",
    "# Die Bewegungsgleichungen\n",
    "\n",
    "# symbolisch\n",
    "x1_dd = F.dot(e1) / m\n",
    "x2_dd = F.dot(e2) / m\n",
    "sp.Eq(sp.diff(x1, t, 2), x1_dd)"
   ]
  },
  {
   "cell_type": "markdown",
   "id": "ed1db62f-c3e6-48e0-8b8c-7f2ab020e128",
   "metadata": {},
   "source": [
    "## 2. Numerische Lösung der Bewegungsgleichungen"
   ]
  },
  {
   "cell_type": "markdown",
   "id": "003737c4-39cc-45af-8f39-2f763ec49bc3",
   "metadata": {},
   "source": [
    "### 2.1. Umwandlung der symbolischen Bewegungsgleichungen in NumPy-Funktionen"
   ]
  },
  {
   "cell_type": "code",
   "execution_count": null,
   "id": "5680c581-5c13-4e3e-bea5-ba2e04c28434",
   "metadata": {},
   "outputs": [],
   "source": [
    "## SOLUTION\n",
    "\n",
    "# Numerische Version der Bewegungsgleichungem\n",
    "x1_dd_n = sp.lambdify([x1, x2, m, k1, k2, l1, l2], x1_dd)\n",
    "x2_dd_n = sp.lambdify([x1, x2, m, k1, k2, l1, l2], x2_dd)"
   ]
  },
  {
   "cell_type": "markdown",
   "id": "41b6972a-f8ba-4b00-aae5-7f8ddcbb2b1a",
   "metadata": {},
   "source": [
    "### 2.2. Implementation der Bewegungsgleichungen in `odeint`"
   ]
  },
  {
   "cell_type": "markdown",
   "id": "2352ba18-d195-401f-bde4-a607d87418d1",
   "metadata": {},
   "source": [
    "Transformiere die Bewegungsgleichungen 2. Ordnung\n",
    "\n",
    "$$\n",
    "\\ddot{x_1} = f_1(x_1, x_2, \\dots)\\qquad\\text{und}\\qquad\\ddot{x_2} = f_2(x_1, x_2, \\dots)\n",
    "$$\n",
    "\n",
    "in ein System aus gekoppelten Gleichungen erster Ordnung:\n",
    "\n",
    "\\begin{align*}\n",
    "  \\dot{x_1} & = u \\\\\n",
    "  \\dot{x_2} & = v \\\\\n",
    "  \\dot{u} & = f_1(x_1, x_2, \\dots) \\\\\n",
    "  \\dot{v} & = f_2(x_1, x_2, \\dots) \\\\\n",
    "\\end{align*}\n",
    "\n",
    "Bringe das System mit $\\vec{S}=(x_1, x_2, u, v)$ in Vektorform:\n",
    "\n",
    "$$ \\vec{S} = \\begin{bmatrix} x_1(t) \\\\ x_2(t) \\\\ u(t) \\\\ v(t) \\end{bmatrix} \\hspace{5mm} \\implies  \\hspace{5mm} \\frac{\\rm{d}\\vec{S}}{\\rm{d}t} = \\begin{bmatrix} \\dot{x_1}(t) \\\\ \\dot{x_2}(t) \\\\ \\dot{u}(t) \\\\ \\dot{v}(t) \\end{bmatrix} = \\begin{bmatrix} u(t) \\\\ v(t) \\\\ f_1(x_1, x_2, \\dots) \\\\ f_2(x_1, x_2, \\dots) \\end{bmatrix}$$\n",
    "\n"
   ]
  },
  {
   "cell_type": "markdown",
   "id": "dced608c-a201-4c11-83d6-637482ea327b",
   "metadata": {},
   "source": [
    "Definiere eine Python-Funktion mit Argumenten (S, t, ...) und Rückgabewert ${\\rm d}\\vec{S}/{\\rm d}t$:"
   ]
  },
  {
   "cell_type": "code",
   "execution_count": null,
   "id": "8921b870-a997-4974-848a-2a9feb5971b0",
   "metadata": {},
   "outputs": [],
   "source": [
    "## SOLUTION\n",
    "\n",
    "def dSdt(S, t, m, k1, k2, l1, l2):\n",
    "    x1, x2, u, v = S\n",
    "    \n",
    "    dx1dt = u\n",
    "    dx2dt = v\n",
    "    dudt = x1_dd_n(x1, x2, m, k1, k2, l1, l2)\n",
    "    dvdt = x2_dd_n(x1, x2, m, k1, k2, l1, l2)\n",
    "    \n",
    "    return [dx1dt, dx2dt, dudt, dvdt]"
   ]
  },
  {
   "cell_type": "markdown",
   "id": "05175ba4-2866-4188-baae-e5f1bfb6041d",
   "metadata": {},
   "source": [
    "Definiere Zeiten, an denen das DGL-System gelöst werden soll, die Anfangsbedingung und nötige Konstanten. Zuletzt mit allem die DGL-Routine `odeint` aufrufen:"
   ]
  },
  {
   "cell_type": "code",
   "execution_count": null,
   "id": "072dba6d-b1ba-4014-ada6-b085dee35e80",
   "metadata": {},
   "outputs": [],
   "source": [
    "## SOLUTION\n",
    "\n",
    "# Zeit. Wir wollen eine Simulation von 100 s mit\n",
    "# 10 Datenpunkten pro Sekunde. Das nutzen wir unten\n",
    "# in der Animation\n",
    "#\n",
    "\n",
    "time = 100 \n",
    "sampling = 10\n",
    "t_n = np.linspace(0.0, time, time * sampling + 1)\n",
    "\n",
    "# Konstanten\n",
    "m_n, k1_n, k2_n, l1_n, l2_n = 1., 1., 1., 1., 1.\n",
    "\n",
    "# Einige Anfangsbedingungen mit interessanten\n",
    "# Bewegungsmustern:\n",
    "\n",
    "#x1_0, x2_0, u0, v0 = 0.5, 0.0, 0.0, 0.0\n",
    "x1_0, x2_0, u0, v0 = 0.7, 0.3, 0.0, 0.0\n",
    "#x1_0, x2_0, u0, v0 = 0.7, 0.3, -0.5, 0.5\n",
    "#x1_0, x2_0, u0, v0 = 0.0, -0.95, 0.0, 0.0\n",
    "#x1_0, x2_0, u0, v0 = 0.0, 0.0, 0.5, 0.1\n",
    "#x1_0, x2_0, u0, v0 = 0.0, 0.0, 2.0, 0.0\n",
    "\n",
    "S0 = [x1_0, x2_0, u0, v0]\n",
    "\n",
    "# und die Loesung des DGL-Systems\n",
    "sol_dgl = si.odeint(dSdt, S0, t=t_n, args=(m_n, k1_n, k2_n, l1_n, l2_n))"
   ]
  },
  {
   "cell_type": "markdown",
   "id": "8737653a-5b13-4a98-8c8c-deca9a5b7ba1",
   "metadata": {},
   "source": [
    "## 3. Visualisiere Ergebnisse"
   ]
  },
  {
   "cell_type": "markdown",
   "id": "45b3db2c-fc24-404d-bb0f-5ab60c58732b",
   "metadata": {},
   "source": [
    "### 3.1. Einfache Plots"
   ]
  },
  {
   "cell_type": "code",
   "execution_count": null,
   "id": "c4b66653-1db9-4568-9e01-bc6744edd6bf",
   "metadata": {},
   "outputs": [],
   "source": [
    "## SOLUTION\n",
    "\n",
    "x1_n, x2_n = sol_dgl[:,0], sol_dgl[:,1]\n",
    "plt.plot(x1_n, x2_n, label=f'S0={S0}')\n",
    "plt.legend()"
   ]
  },
  {
   "cell_type": "markdown",
   "id": "47afb58e-259f-47ba-a280-b6d48faebafa",
   "metadata": {},
   "source": [
    "### 3.2. Animation der Pendelbewegungen"
   ]
  },
  {
   "cell_type": "markdown",
   "id": "9d1e099f-d13c-4cf0-a0ea-997fa7ff7501",
   "metadata": {},
   "source": [
    "Die folgenden Animationen erzeugen *bewegte* gif-Dateien. Bitte konsultieren Sie das WWW, wenn Sie andere Formate (z.B. mp4) möchte, oder wenn der Code bei Ihnen nicht funktioniert."
   ]
  },
  {
   "cell_type": "code",
   "execution_count": null,
   "id": "0ea2bd77-6f01-449d-afd7-1f45beb7845d",
   "metadata": {},
   "outputs": [],
   "source": [
    "# Die Animate-Funktion ist für die einzelnen Bilder\n",
    "# des Films zuständig:\n",
    "def animate(i, ln1, ln2):\n",
    "    ln1.set_data([x1_n[i]], [x2_n[i]])\n",
    "    ln2.set_data(x1_n[0:i], x2_n[0:i])\n",
    "\n",
    "    return ln1, ln2\n",
    "\n",
    "fig, ax = plt.subplots(1, 1, figsize=(5, 5))\n",
    "\n",
    "# Das erste Bild der Animation\n",
    "ln1, = plt.plot([], [], lw=3, markersize=20, marker='o', \n",
    "                color='black', markerfacecolor='lightblue')\n",
    "ln2, = plt.plot([], [], lw=2)\n",
    "\n",
    "ax.set_ylim(-3.0, 2.0)\n",
    "ax.set_xlim(-3.0, 2.0)\n",
    "ax.grid()\n",
    "\n",
    "# Die Anzahl der Frames entspricht der Anzahl der Zeitschritte der\n",
    "# Simulation\n",
    "ani = animation.FuncAnimation(fig, animate, fargs=(ln1, ln2), frames=time * sampling + 1)\n",
    "plt.close()\n",
    "\n",
    "# Wir haben insgesamt 1000 Zeitschritte bzw. Bilder. Mit fps=50\n",
    "# (frames per second) erhalten wir zum Schluss eine Simulation von 20 Sekunden\n",
    "ani.save(f'pendulum_{S0[0]}_{S0[1]}_{S0[2]}_{S0[3]}.gif', writer='pillow', fps=50)"
   ]
  },
  {
   "cell_type": "markdown",
   "id": "45eebc61-78a4-485e-a4b8-3dc4dbcb7631",
   "metadata": {},
   "source": [
    "!! SOLUTION\n",
    "\n",
    "### 3.3. Animation der Pendelbewegungen (mit Federsystem)"
   ]
  },
  {
   "cell_type": "code",
   "execution_count": null,
   "id": "fef3743f-0df9-4ddf-96d7-15bf9bd041a4",
   "metadata": {},
   "outputs": [],
   "source": [
    "## SOLUTION\n",
    "\n",
    "def animate(i, ln1, ln2, ln3, ln4, label, fast_forward):\n",
    "    # zeichne Masse und Massenspur:\n",
    "    ln1.set_data([x1_n[i]], [x2_n[i]])\n",
    "    ln2.set_data(x1_n[0:i], x2_n[0:i])\n",
    "\n",
    "    # zeichne die Federn:\n",
    "    s1 = spring.spring([-l1_n, 0.], [x1_n[i], x2_n[i]], 10, 0.2)\n",
    "    s2 = spring.spring([0., -l2_n], [x1_n[i], x2_n[i]], 10, 0.2)\n",
    "    ln3.set_data(*s1)\n",
    "    ln4.set_data(*s2)\n",
    "\n",
    "    label.set_text(f\"Zeit: {i / sampling / fast_forward:05.2f} / {time / fast_forward} s; S0={S0}\")\n",
    "    \n",
    "    return ln1, ln2, ln3, ln4, label\n",
    "\n",
    "fig, ax = plt.subplots(1, 1, figsize=(6, 6))\n",
    "ax.grid()\n",
    "\n",
    "# ln1: Die Masse\n",
    "ln1, = plt.plot([], [], lw=3, markersize=30, marker='o', \n",
    "                color='black', markerfacecolor='lightblue')\n",
    "# ln2: Die Massenspur\n",
    "ln2, = plt.plot([], [], lw=2)\n",
    "\n",
    "# ln3, ln4: Federn:\n",
    "ln3, = plt.plot([], [], lw=3, color='black', alpha=0.5)\n",
    "ln4, = plt.plot([], [], lw=3, color='black', alpha=0.5)\n",
    "\n",
    "label = ax.text(-2.9, 2.2, f\"Zeit 0 / {time}\", \n",
    "                ha='left', va='bottom', fontsize=15, color=\"black\")\n",
    "\n",
    "# zeichne Gleichgewichtspunkte:\n",
    "ax.plot([-l1_n, 0], [0, -l2_n], color='red', lw=2)\n",
    "ax.plot([0], [-l2_n], color='red', lw=2)\n",
    "\n",
    "ax.set_ylim(-3.0, 2.0)\n",
    "ax.set_xlim(-3.0, 2.0)\n",
    "\n",
    "# Filmbeschleunigung\n",
    "fast_forward = 5\n",
    "\n",
    "# Erstelle den Film:\n",
    "ani = animation.FuncAnimation(fig, animate, fargs=(ln1, ln2, ln3, ln4, label, fast_forward),\n",
    "                              frames=time * sampling, interval=50, repeat=False)\n",
    "plt.close()\n",
    "\n",
    "ani.save(f'pendulum_{S0[0]}_{S0[1]}_{S0[2]}_{S0[3]}_feder.gif', writer='pillow', fps=sampling * fast_forward)"
   ]
  },
  {
   "cell_type": "code",
   "execution_count": null,
   "id": "719f8f97-c6af-4586-8128-5859fe0ed5a3",
   "metadata": {},
   "outputs": [],
   "source": []
  }
 ],
 "metadata": {
  "kernelspec": {
   "display_name": "Python 3 (ipykernel)",
   "language": "python",
   "name": "python3"
  },
  "language_info": {
   "codemirror_mode": {
    "name": "ipython",
    "version": 3
   },
   "file_extension": ".py",
   "mimetype": "text/x-python",
   "name": "python",
   "nbconvert_exporter": "python",
   "pygments_lexer": "ipython3",
   "version": "3.9.18"
  }
 },
 "nbformat": 4,
 "nbformat_minor": 5
}
