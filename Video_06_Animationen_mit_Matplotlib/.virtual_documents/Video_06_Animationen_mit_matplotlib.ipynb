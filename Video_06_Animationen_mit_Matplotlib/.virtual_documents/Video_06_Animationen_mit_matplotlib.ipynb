











%matplotlib inline

# Benötigte Module
import numpy as np
import matplotlib.pyplot as plt

# Für Animationen notwendig:
import matplotlib.animation as ma


# Position der Pendelbewegung und einfacher, statischer Plot:
def x(t):
    return (np.sqrt(11) * np.sin(3 * np.sqrt(11) * t / 10) / 33 + 
            np.cos(3 * np.sqrt(11) * t / 10)) * np.exp(-t / 10)

# statischer Plot der Bewegung für die ersten 20s:
t_n = np.linspace(0.0, 20.0, 200)
x_n = x(t_n)

fig, ax = plt.subplots(figsize=(4, 2), tight_layout=True)
ax.set_xlim(0, 20)
ax.set_ylim(-1, 1)
ax.set_xlabel(r'$t$')
ax.set_ylabel(r'$x(t)$')
ax.grid()

ax.plot(t_n, x_n, lw=2, color='blue')








# Zur Definition der Videolänge benötigen wir die
# gewünschte Dauer in Sekunden und die Anzahl der
# einzelnen Videobilder. Die Anzahl der Bilder ergibt
# sich 'immer' aus den vorhandenen Daten. Die Dauer in 
# Sekunden ist frei wählbar. Sie sollten aber darauf 
# achten, dass genügend Bilder pro Sekunde abgespielt werden
# können, um eine flüssige Darstellung zu erhalten.
n_seconds = 20
n_frames = 200

t_n = np.linspace(0.0, n_seconds, n_frames)
x_n = x(t_n)

# Für Animationen benötigen wir das fig - ax Interface
# zur Erstellung von Figuren:

# Deinition des Grundgerüstes der Figur:
fig, ax = plt.subplots(figsize=(4, 2), tight_layout=True)
fig.canvas.header_visible = False

ax.set_xlim(0, 20)
ax.set_ylim(-1, 1)
ax.set_xlabel(r'$t$')
ax.set_ylabel(r'$x(t)$')
#ax.set_title('Animation roter Punkt')
ax.grid()

# Zu animierende Plotelemente definieren
line, = ax.plot([], [], lw=2, color='blue')
dot, = ax.plot([], [], 'o', markersize=10, color='red')
text = ax.text(7, 0.7, "", bbox = {'facecolor' : 'white',
                                   'edgecolor' : 'black',
                                   'pad' : 3})

# Die Anzahl der Bilder, die pro Sekunde abgespielt werden.
fps = n_frames / n_seconds 

# Der verwendete Animation-Writer bestimmt, welche Videoformate
# verwendet werden können. Der PillowWriter wird primär für bewegte
# 'gifs' verwendet.
writer = ma.PillowWriter(fps=fps)

# Bilder nacheinander 'abspielen' und als Video abspeichern.
# Das dpi-Argument im folgenden Befehl  bestimmt die Videogrösse 
# in Bildschirmpixeln. Sie ergibt sich aus den Angaben von 
# 'figsize' (fig, ax .. Befehl weiter) oben multipliziert mit dem 
# dpi-Wert.

with writer.saving(fig, 'wave.gif', dpi=100):
    for frame in range(n_frames):
        line.set_data(t_n[:frame], x_n[:frame])
        dot.set_data([t_n[frame]], [x_n[frame]])
        text.set_text(f"t ={frame / fps:05.2f} s")

        # gegenwärtiges Plotbild in das Video
        # aufnehmen:
        writer.grab_frame()














# Einfacher Test, ob auf Ihrem System das gif und/oder das mp4-Format zum Abspeichern
# von Animationen verfügbar sind.

import matplotlib.animation as ma

# Teste of PIL zum Abspeichern von bewegten gifs:
if ma.writers.is_available('pillow'):
    print('Bewegte GIFs können mit der PIL abgespeichert werden.')
    print("Ein Beispielbefehl: writer = ma.PillowWriter(...)")
else:
    print('PIL ist bei Ihnen nicht verfügbar.')

if ma.writers.is_available('ffmpeg'):
    print('MPEG4-Videodateien und viele andere Formate können mit ffmpeg abgespeichert werden.')
    print("Ein Beispielbefehl: writer = ma.FFMpegWriter(...)")
else:
    print('FFMpeg ist bei Ihnen nicht verfügbar.')

if ma.writers.is_available('imagemagick'):
    print('MPEG4-Videodateien und viele andere Formate können mit ImageMagick abgespeichert werden.')
    print("Ein Beispielbefehl: writer = ma.ImageMagickWriter(...)")
else:
    print('ImageMagick ist bei Ihnen nicht verfügbar.')



