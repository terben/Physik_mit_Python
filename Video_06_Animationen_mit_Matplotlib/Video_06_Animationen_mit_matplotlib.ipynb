{
 "cells": [
  {
   "cell_type": "markdown",
   "id": "6e5fa477-fc61-42e1-a856-83d652a08900",
   "metadata": {},
   "source": [
    "# Animationen in matplotlib"
   ]
  },
  {
   "cell_type": "markdown",
   "id": "f8b89f92-43fb-4b05-bef4-bd1b695ad5dd",
   "metadata": {},
   "source": [
    "Die Bewegungsgleichung eines gedämpften harmonischen Oszillators \n",
    "\n",
    "$$\n",
    "\\ddot{x}(t) + 2\\gamma\\omega_0 \\dot{x}(t) + \\omega_0^2 x(t) = 0\n",
    "$$\n",
    "\n",
    "führt für $\\gamma = \\frac{1}{10}$ und $\\omega_0=1$ zu der Lösung:\n",
    "\n",
    "$$\n",
    "x(t) = \\left(\\frac{\\sqrt{11} \\sin{\\left(\\frac{3 \\sqrt{11} t}{10} \\right)}}{33} + \\cos{\\left(\\frac{3 \\sqrt{11} t}{10} \\right)}\\right) e^{- \\frac{ t}{10}}\n",
    "$$"
   ]
  },
  {
   "cell_type": "markdown",
   "id": "1c3ff794-2205-4754-ab2e-af9642405181",
   "metadata": {},
   "source": [
    "Wir wollen die Bewegung als Animation darstellen:"
   ]
  },
  {
   "cell_type": "markdown",
   "id": "d697d212-2919-4daf-b3eb-afe738fff1f9",
   "metadata": {},
   "source": [
    "<center><img src=\"figuren/pendel.png\" width=\"400\" align=\"center\"><img src=\"figuren/pendel.gif\" width=\"400\" align=\"center\"></center>"
   ]
  },
  {
   "cell_type": "code",
   "execution_count": null,
   "id": "52b673ba-71e8-43c3-9ac1-925b12f5beba",
   "metadata": {},
   "outputs": [],
   "source": [
    "%matplotlib inline\n",
    "\n",
    "# Benötigte Module\n",
    "import numpy as np\n",
    "import matplotlib.pyplot as plt\n",
    "\n",
    "# Für Animationen notwendig:\n",
    "import matplotlib.animation as ma"
   ]
  },
  {
   "cell_type": "code",
   "execution_count": null,
   "id": "3f1d7e94-539f-4a5a-8e29-4a36c0fcc29a",
   "metadata": {},
   "outputs": [],
   "source": [
    "# Position der Pendelbewegung und einfacher, statischer Plot:\n",
    "def x(t):\n",
    "    return (np.sqrt(11) * np.sin(3 * np.sqrt(11) * t / 10) / 33 + \n",
    "            np.cos(3 * np.sqrt(11) * t / 10)) * np.exp(-t / 10)\n",
    "\n",
    "# statischer Plot der Bewegung für die ersten 20s:\n",
    "t_n = np.linspace(0.0, 20.0, 200)\n",
    "x_n = x(t_n)\n",
    "\n",
    "fig, ax = plt.subplots(figsize=(4, 2), tight_layout=True)\n",
    "ax.set_xlim(0, 20)\n",
    "ax.set_ylim(-1, 1)\n",
    "ax.set_xlabel(r'$t$')\n",
    "ax.set_ylabel(r'$x(t)$')\n",
    "ax.grid()\n",
    "\n",
    "ax.plot(t_n, x_n, lw=2, color='blue')"
   ]
  },
  {
   "cell_type": "markdown",
   "id": "4949feb0-2fae-4828-900d-aabfdaddee3c",
   "metadata": {},
   "source": [
    "## Vom statischen Plot zur Animation"
   ]
  },
  {
   "cell_type": "markdown",
   "id": "419d0a69-b13b-4d5f-97a3-b8085c5d7d1f",
   "metadata": {},
   "source": [
    "Eine Animation wird erzeugt, indem einzelne Bilder nacheinander dargestellt werden."
   ]
  },
  {
   "cell_type": "code",
   "execution_count": null,
   "id": "9b218535-e250-4ca9-93f6-cbb7987b04f0",
   "metadata": {},
   "outputs": [],
   "source": [
    "# Zur Definition der Videolänge benötigen wir die\n",
    "# gewünschte Dauer in Sekunden und die Anzahl der\n",
    "# einzelnen Videobilder. Die Anzahl der Bilder ergibt\n",
    "# sich 'immer' aus den vorhandenen Daten. Die Dauer in \n",
    "# Sekunden ist frei wählbar. Sie sollten aber darauf \n",
    "# achten, dass genügend Bilder pro Sekunde abgespielt werden\n",
    "# können, um eine flüssige Darstellung zu erhalten.\n",
    "n_seconds = 20\n",
    "n_frames = 200\n",
    "\n",
    "t_n = np.linspace(0.0, n_seconds, n_frames)\n",
    "x_n = x(t_n)\n",
    "\n",
    "# Für Animationen benötigen wir das fig - ax Interface\n",
    "# zur Erstellung von Figuren:\n",
    "\n",
    "# Deinition des Grundgerüstes der Figur:\n",
    "fig, ax = plt.subplots(figsize=(4, 2), tight_layout=True)\n",
    "fig.canvas.header_visible = False\n",
    "\n",
    "ax.set_xlim(0, 20)\n",
    "ax.set_ylim(-1, 1)\n",
    "ax.set_xlabel(r'$t$')\n",
    "ax.set_ylabel(r'$x(t)$')\n",
    "#ax.set_title('Animation roter Punkt')\n",
    "ax.grid()\n",
    "\n",
    "# Zu animierende Plotelemente definieren\n",
    "line, = ax.plot([], [], lw=2, color='blue')\n",
    "dot, = ax.plot([], [], 'o', markersize=10, color='red')\n",
    "text = ax.text(7, 0.7, \"\", bbox = {'facecolor' : 'white',\n",
    "                                   'edgecolor' : 'black',\n",
    "                                   'pad' : 3})\n",
    "\n",
    "# Die Anzahl der Bilder, die pro Sekunde abgespielt werden.\n",
    "fps = n_frames / n_seconds \n",
    "\n",
    "# Der verwendete Animation-Writer bestimmt, welche Videoformate\n",
    "# verwendet werden können. Der PillowWriter wird primär für bewegte\n",
    "# 'gifs' verwendet.\n",
    "writer = ma.PillowWriter(fps=fps)\n",
    "\n",
    "# Bilder nacheinander 'abspielen' und als Video abspeichern.\n",
    "# Das dpi-Argument im folgenden Befehl  bestimmt die Videogrösse \n",
    "# in Bildschirmpixeln. Sie ergibt sich aus den Angaben von \n",
    "# 'figsize' (fig, ax .. Befehl weiter) oben multipliziert mit dem \n",
    "# dpi-Wert.\n",
    "\n",
    "with writer.saving(fig, 'wave.gif', dpi=100):\n",
    "    for frame in range(n_frames):\n",
    "        line.set_data(t_n[:frame], x_n[:frame])\n",
    "        dot.set_data([t_n[frame]], [x_n[frame]])\n",
    "        text.set_text(f\"t ={frame / fps:05.2f} s\")\n",
    "\n",
    "        # gegenwärtiges Plotbild in das Video\n",
    "        # aufnehmen:\n",
    "        writer.grab_frame()\n",
    "\n",
    "# Der folgende Befehl verhindert, dass nach dieser Zelle noch der\n",
    "# letzte Plot der Animation angezeigt wird:\n",
    "plt.close()"
   ]
  },
  {
   "cell_type": "markdown",
   "id": "3dbf94ee-2438-4a5b-aa0f-0677165cb8de",
   "metadata": {},
   "source": [
    "## Bemerkung zu `FuncAnimation`"
   ]
  },
  {
   "cell_type": "markdown",
   "id": "3ac03767-3d44-445d-ba54-9efbcdca9104",
   "metadata": {},
   "source": [
    "MatplotLib stellt zur Erstellung von Animationen die Funktion `ma.FuncAnimation` zur Verfügung und die meisten Tutorials führen das Thema damit ein. Ich finde den hier vorgestellten Ansatz aber einfacher und als Einstieg in das Thema besser zugänglich.\n",
    "\n",
    "Wenn Sie sich für `FuncAnimation` interessieren, können Sie es mit der [FuncAnimation-Variante](Video_06_Animationen_mit_matplotlib_FuncAnimation.ipynb) dieses Notebooks studieren."
   ]
  },
  {
   "cell_type": "markdown",
   "id": "5162be79-dc3e-45ba-b3a5-a72c50b55ccd",
   "metadata": {},
   "source": [
    "## Videoformate zum Abspeichern von Animationen"
   ]
  },
  {
   "cell_type": "markdown",
   "id": "d0a8592f-47de-4d99-b769-870c3c3d0129",
   "metadata": {},
   "source": [
    "In welchen Videoformaten Animationen abgespeichert werden können (`writer = XXXWriter(...)`-Kommando), hängt von der Installation von teilweise externen Programmen auf Ihrem System ab. Am gebräuchlichsten ist das Abspeichern als bewegte `gif`-Dateien oder als `mp4`-Videodateien.\n",
    "\n",
    "Das `gif`-Format sollte auf allen Systemen durch die `Python Image Library` und mit dem `PillowWriter` verfügbar sein. Für `mp4` werden externe Programme benötigt, z.B. `ffmpeg`. Falls Sie `ffmpeg` installieren möchten, finden Sie es [hier](https://www.ffmpeg.org/download.html). \n",
    "\n",
    "Die folgende Zelle testet, welche Formate auf Ihren System verfügbar sind. Für weitere Informationen zu dem Thema siehe [die offizielle Dokumentation zu den Animation Writers](https://matplotlib.org/stable/users/explain/animations/animations.html#animation-writers).\n"
   ]
  },
  {
   "cell_type": "code",
   "execution_count": null,
   "id": "8c31658e-5c05-4574-86b9-2737a35d14c6",
   "metadata": {},
   "outputs": [],
   "source": [
    "# Einfacher Test, ob auf Ihrem System das gif und/oder das mp4-Format zum Abspeichern\n",
    "# von Animationen verfügbar sind.\n",
    "\n",
    "import matplotlib.animation as ma\n",
    "\n",
    "# Teste of PIL zum Abspeichern von bewegten gifs:\n",
    "if ma.writers.is_available('pillow'):\n",
    "    print('Bewegte GIFs können mit der PIL abgespeichert werden.')\n",
    "    print(\"Ein Beispielbefehl: writer = ma.PillowWriter(...)\")\n",
    "else:\n",
    "    print('PIL ist bei Ihnen nicht verfügbar.')\n",
    "\n",
    "if ma.writers.is_available('ffmpeg'):\n",
    "    print('MPEG4-Videodateien und viele andere Formate können mit ffmpeg abgespeichert werden.')\n",
    "    print(\"Ein Beispielbefehl: writer = ma.FFMpegWriter(...)\")\n",
    "else:\n",
    "    print('FFMpeg ist bei Ihnen nicht verfügbar.')\n",
    "\n",
    "if ma.writers.is_available('imagemagick'):\n",
    "    print('MPEG4-Videodateien und viele andere Formate können mit ImageMagick abgespeichert werden.')\n",
    "    print(\"Ein Beispielbefehl: writer = ma.ImageMagickWriter(...)\")\n",
    "else:\n",
    "    print('ImageMagick ist bei Ihnen nicht verfügbar.')"
   ]
  },
  {
   "cell_type": "code",
   "execution_count": null,
   "id": "bcd83d96-5574-4685-b594-450890b11533",
   "metadata": {},
   "outputs": [],
   "source": []
  }
 ],
 "metadata": {
  "kernelspec": {
   "display_name": "Python 3 (ipykernel)",
   "language": "python",
   "name": "python3"
  },
  "language_info": {
   "codemirror_mode": {
    "name": "ipython",
    "version": 3
   },
   "file_extension": ".py",
   "mimetype": "text/x-python",
   "name": "python",
   "nbconvert_exporter": "python",
   "pygments_lexer": "ipython3",
   "version": "3.9.19"
  }
 },
 "nbformat": 4,
 "nbformat_minor": 5
}
