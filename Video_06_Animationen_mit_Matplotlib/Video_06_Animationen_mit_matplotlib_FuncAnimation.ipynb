{
 "cells": [
  {
   "cell_type": "markdown",
   "id": "6e5fa477-fc61-42e1-a856-83d652a08900",
   "metadata": {},
   "source": [
    "# Animationen in matplotlib"
   ]
  },
  {
   "cell_type": "markdown",
   "id": "f8b89f92-43fb-4b05-bef4-bd1b695ad5dd",
   "metadata": {},
   "source": [
    "Die Bewegungsgleichung eines gedämpften harmonischen Oszillators \n",
    "\n",
    "$$\n",
    "\\ddot{x}(t) + 2\\gamma\\omega_0 \\dot{x}(t) + \\omega_0^2 x(t) = 0\n",
    "$$\n",
    "\n",
    "führt für $\\gamma = \\frac{1}{10}$ und $\\omega_0=1$ zu der Lösung:\n",
    "\n",
    "$$\n",
    "x(t) = \\left(\\frac{\\sqrt{11} \\sin{\\left(\\frac{3 \\sqrt{11} t}{10} \\right)}}{33} + \\cos{\\left(\\frac{3 \\sqrt{11} t}{10} \\right)}\\right) e^{- \\frac{ t}{10}}\n",
    "$$"
   ]
  },
  {
   "cell_type": "markdown",
   "id": "1c3ff794-2205-4754-ab2e-af9642405181",
   "metadata": {},
   "source": [
    "Wir wollen die Bewegung als Animation darstellen:"
   ]
  },
  {
   "cell_type": "markdown",
   "id": "d697d212-2919-4daf-b3eb-afe738fff1f9",
   "metadata": {},
   "source": [
    "<center><img src=\"figuren/pendel.png\" width=\"400\" align=\"center\"><img src=\"figuren/pendel.gif\" width=\"400\" align=\"center\"></center>"
   ]
  },
  {
   "cell_type": "code",
   "execution_count": null,
   "id": "52b673ba-71e8-43c3-9ac1-925b12f5beba",
   "metadata": {},
   "outputs": [],
   "source": [
    "%matplotlib inline\n",
    "\n",
    "# Benötigte Module\n",
    "import numpy as np\n",
    "import matplotlib.pyplot as plt\n",
    "\n",
    "# Für Animationen notwendig:\n",
    "import matplotlib.animation as ma"
   ]
  },
  {
   "cell_type": "code",
   "execution_count": null,
   "id": "3f1d7e94-539f-4a5a-8e29-4a36c0fcc29a",
   "metadata": {},
   "outputs": [],
   "source": [
    "# Position der Pendelbewegung und einfacher Plot:\n",
    "def x(t):\n",
    "    return (np.sqrt(11) * np.sin(3 * np.sqrt(11) * t / 10) / 33 + \n",
    "            np.cos(3 * np.sqrt(11) * t / 10)) * np.exp(-t / 10)\n",
    "\n",
    "# statischer Plot der Bewegung für die ersten 20s:\n",
    "t_n = np.linspace(0.0, 20.0, 100)\n",
    "x_n = x(t_n)\n",
    "\n",
    "fig, ax = plt.subplots(figsize=(4, 2), tight_layout=True)\n",
    "ax.set_xlim(0, 20)\n",
    "ax.set_ylim(-1, 1)\n",
    "ax.set_xlabel(r'$t$')\n",
    "ax.set_ylabel(r'$x(t)$')\n",
    "ax.grid()\n",
    "\n",
    "ax.plot(t_n, x_n, lw=2, color='blue')"
   ]
  },
  {
   "cell_type": "markdown",
   "id": "4949feb0-2fae-4828-900d-aabfdaddee3c",
   "metadata": {},
   "source": [
    "## Grundlegende Ideen für animierte Plots"
   ]
  },
  {
   "cell_type": "markdown",
   "id": "419d0a69-b13b-4d5f-97a3-b8085c5d7d1f",
   "metadata": {},
   "source": [
    "Eine Animation wird erzeugt, indem einzelne Bilder nacheinander dargestellt werden."
   ]
  },
  {
   "cell_type": "code",
   "execution_count": null,
   "id": "2194f658-63ed-45fe-b53c-3d3a8c3a0cfb",
   "metadata": {},
   "outputs": [],
   "source": [
    "# Bereitstellung der Daten; oft als Arrays\n",
    "t_n = np.linspace(0.0, 20.0, 100)\n",
    "x_n = x(t_n)\n",
    "\n",
    "# Grundgerüst der Animation:\n",
    "fig, ax = plt.subplots(figsize=(4, 2), tight_layout=True)\n",
    "ax.set_xlim(0, 20)\n",
    "ax.set_ylim(-1, 1)\n",
    "\n",
    "# Die Animation ist die Hintereinanderdarstellung einzelner Bilder.\n",
    "# Hier werden die Bilder durch Arrayelemente eines Liniendiagramms\n",
    "# erzeugt:\n",
    "frame = 55\n",
    "ax.plot(t_n[:frame], x_n[:frame], lw=2, color='blue')\n",
    "#ax.plot(t_n[frame], x_n[frame], 'o', markersize=10, color='red')"
   ]
  },
  {
   "cell_type": "markdown",
   "id": "11fbf68d-fde2-438c-9da8-0842c4396394",
   "metadata": {},
   "source": [
    "## Vom statischen Plot zur Animation in 6 Schritten"
   ]
  },
  {
   "cell_type": "markdown",
   "id": "62e802d3-7ecb-461b-ba7c-fd46eb81e677",
   "metadata": {},
   "source": [
    "Zur Umsetzung obiger Animationsidee stellt `matplotlib` die Funktion `ma.FuncAnimation` zur Verfügung."
   ]
  },
  {
   "cell_type": "code",
   "execution_count": null,
   "id": "169b861e-5381-4501-b799-8a3dc0fb2183",
   "metadata": {},
   "outputs": [],
   "source": [
    "# 1. Aufbereitung der Daten\n",
    "nseconds = 20\n",
    "nframes = 400\n",
    "t_n = np.linspace(0.0, nseconds, nframes)\n",
    "x_n = x(t_n)\n",
    "\n",
    "# 2. Initialisierung des Funktionsgerüstes:\n",
    "# Für Animationen benötigen wir Figuren und Achsen:\n",
    "fig, ax = plt.subplots(figsize=(4, 2), tight_layout=True, dpi=200)\n",
    "\n",
    "ax.set_xlim(0., 20.0)\n",
    "ax.set_ylim(-1., 1.)\n",
    "ax.set_xlabel(r'$t$')\n",
    "ax.set_ylabel(r'$x(t)$')\n",
    "ax.grid()\n",
    "\n",
    "# 3. Deinition zu animierender Elemente\n",
    "# Hier erzeugen Sie 'leere' Elemente mit evtl. Parametern (Strichdicke etc.)\n",
    "line, = ax.plot([], [], lw=2, color='blue') # evtl. mit Stilelementen\n",
    "dot, = ax.plot([], [], 'o', markersize=10, color='red') # evtl. mit Stilelementen\n",
    "\n",
    "# Gegenüber dem Video wird hier die Positionsangabe des Textes unabhängig von\n",
    "# den Werten in 'xlim' und 'ylim' angegeben, also unabhängig vom Koordinatensystem\n",
    "# der Daten. Die Positionsangabe erfolgt stattdessen im Koordinatensystem der Figur.\n",
    "# Das ist immer dann sinnvoll, wenn man von konkreten Datenwerten unabhängig sein\n",
    "# möchte.\n",
    "# Bitte im Netz hierzu u.a. die Seite \n",
    "# https://matplotlib.org/stable/users/explain/artists/transforms_tutorial.html\n",
    "# befragen.\n",
    "#text = ax.text(0.4, 0.85, \"\", \n",
    "#               bbox={'facecolor':'white','edgecolor':'black','pad':3},\n",
    "#               ha='left', \n",
    "#               transform=ax.transAxes)\n",
    "\n",
    "text = ax.text(7, 0.7, \"\", \n",
    "               bbox={'facecolor':'white'},\n",
    "               )\n",
    "\n",
    "# 4. definiere Zeitintervall zwischen den Bildern\n",
    "#    der Animation; meist festgelegt durch die\n",
    "#    gewünsche Gesamtdauer einer Animation\n",
    "fps = nframes / nseconds       # frames (Bilder) pro Sekunde\n",
    "interval_frames = 1000 / fps  # Zeitinterval zwischen\n",
    "                              # zwei Bildern in Millisekunden\n",
    "\n",
    "# 4. Definition der Funktion für die einzelnen Bilder der Animation\n",
    "def drawframe(frame):\n",
    "    line.set_data(t_n[:frame], x_n[:frame])\n",
    "    dot.set_data([t_n[frame]], [x_n[frame]])\n",
    "    text.set_text(f't = {frame / fps:05.2f} s')\n",
    "\n",
    "    # immer eine 'Liste' aller modifizierten Elemente zurückgeben!\n",
    "    return [line, dot, text]\n",
    "\n",
    "# 5. Aufruf von FuncAnimation zur Erzeugung der Animation\n",
    "animation = ma.FuncAnimation(fig=fig, \n",
    "                             func=drawframe, \n",
    "                             frames=len(t_n),\n",
    "                             interval=interval_frames,\n",
    "                             blit=True)\n",
    "\n",
    "# Das 'blit=True' sollte bei Animationen, die man sich\n",
    "# direkt am Bildschirm (oder im Notebook) ansehen möchte,\n",
    "# gesetzt werden. Es sorgt dafür dass in der Darstellung\n",
    "# nur Elemente , die sich zwischen frames verändern neu gezeichnet\n",
    "# werden. Wenn man es nicht setzt, bekommt man u.U. ruckelige\n",
    "# Darstellungen. Bei Animationen, die man nur abspeichert und später\n",
    "# anschaut, ist es nicht wichtig. In diesem Fall werden die\n",
    "# Programme in komplizierteren Föllen wie hier u.U. einfacher.\n",
    "\n",
    "# 6. Anzeigen der Animation (optional)\n",
    "\n",
    "# Das folgende (bis plt.close) ist im Notebook notwendig:\n",
    "from IPython.display import HTML\n",
    "html = HTML(animation.to_jshtml())\n",
    "\n",
    "display(html)\n",
    "plt.close()\n",
    "\n",
    "# Für die Darstellung des Plots in einem Skript sollte\n",
    "# ein einfaches 'plt.plot()' ausreichen. Wenn es nicht klappt\n",
    "# (z.B. innerhalb einer bestimmten IDE), am einfachsten Dr. Google\n",
    "# befragen.\n",
    "\n",
    "# 7. Abspeichern der Animation als Video auf der Platte (optional)\n",
    "# Das ABspeichern als bewegtes gif sollte bei jedem verfügbar sein:\n",
    "#animation.save('pendel.gif', writer='pillow', fps=fps)\n",
    "\n",
    "# Zum Abspeichern als mp4-Video (oder anderer Videoformate) benötigt\n",
    "# man externe Programme wie z.B. ffmepg. Hierzu evtl bei Google\n",
    "# nachschauen\n",
    "\n",
    "# animation.save('ani_neu.mp4', writer='ffmpeg', fps=fps)"
   ]
  },
  {
   "cell_type": "markdown",
   "id": "69c5eec3-dff1-47d8-952c-684e3037f5d1",
   "metadata": {},
   "source": [
    "## Anhänge / Anmerkungen"
   ]
  },
  {
   "cell_type": "markdown",
   "id": "a4683654-cf9c-4fb2-93f9-a3a1d5379adf",
   "metadata": {},
   "source": [
    "## A.1 Animation anderer Plottypen als Liniendiagramme"
   ]
  },
  {
   "cell_type": "markdown",
   "id": "0aea5d02-62b3-4065-bf89-39d4b67b5322",
   "metadata": {},
   "source": [
    "Ich habe Ihnen primär gezeigt, wie Sie Plots, die in `matplotlib` mit dem `plot`-Kommando erstellt werden, animiert werden können. Dies sind in erster Linie zweidimensionale Linendiagramme. Daneben existieren noch zahlreiche weitere Arten wissenschaftlicher Plots, z.B. Scatter-Plots oder Histogramme. \n",
    "\n",
    "Die grundlegenden Ideen zur Animation solcher Plots bleiben dieselben (`drawframe`-Funktion etc.), die Details (wie update ich die Plotdaten) schauen Sie aber ggf. am besten im WWW nach. Hier einige Links:\n",
    "\n",
    "- [Animation von Scatter-Plots](https://stackoverflow.com/questions/9401658/how-to-animate-a-scatter-plot)\n",
    "- [Animation von Histogrammen](https://matplotlib.org/stable/gallery/animation/animated_histogram.html)\n",
    "- [Animation von Balkendiagrammen](https://stackoverflow.com/questions/42056347/how-to-animate-a-bar-plot)\n",
    "- [Animation in 3d](https://matplotlib.org/stable/gallery/animation/random_walk.html)"
   ]
  },
  {
   "cell_type": "markdown",
   "id": "5162be79-dc3e-45ba-b3a5-a72c50b55ccd",
   "metadata": {},
   "source": [
    "## A.2 Videoformate zum Abspeichern von Animationen"
   ]
  },
  {
   "cell_type": "markdown",
   "id": "d0a8592f-47de-4d99-b769-870c3c3d0129",
   "metadata": {},
   "source": [
    "In welchen Videoformaten Animationen abgespeichert werden können (`animation.save(...)`-Kommando), hängt von der Installation von teilweise externen Programmen auf Ihrem System ab. Am gebräuchlichsten ist das Abspeichern als bewegte `gif`-Dateien oder als `mp4`-Videodateien.\n",
    "\n",
    "Das `gif`-Format sollte auf allen Systemen durch die `Python Image Library` verfügbar sein. Für `mp4` werden externe Programme benötigt.\n",
    "\n",
    "Die folgende Zelle testet, welche Formate auf Ihren System verfügbar sind. Für weitere Informationen zu dem Thema siehe [die offizielle Dokumentation zu den Animation Writers](https://matplotlib.org/stable/users/explain/animations/animations.html#animation-writers)."
   ]
  },
  {
   "cell_type": "code",
   "execution_count": null,
   "id": "8c31658e-5c05-4574-86b9-2737a35d14c6",
   "metadata": {},
   "outputs": [],
   "source": [
    "# Einfacher Test, ob auf Ihrem System das gif und/oder das mp4-Format zum Abspeichern\n",
    "# von Animationen verfügbar sind.\n",
    "\n",
    "import matplotlib.animation as ma\n",
    "\n",
    "# Teste of PIL zum Abspeichern von bewegten gifs:\n",
    "if ma.writers.is_available('pillow'):\n",
    "    print('Bewegte GIFs können mit der PIL abgespeichert werden.')\n",
    "    print(\"Ein Beispielbefehl: anim.save('test.gif', writer='pillow', fps=fps)\")\n",
    "else:\n",
    "    print('PIL ist bei Ihnen nicht verfügbar.')\n",
    "\n",
    "if ma.writers.is_available('ffmpeg'):\n",
    "    print('MPEG4-Videodateien und viele andere Formate können mit ffmpeg abgespeichert werden.')\n",
    "    print(\"Ein Beispielbefehl: anim.save('test.mp4', writer=ma.FFMpegWriter(fps=20))\")\n",
    "else:\n",
    "    print('FFMpeg ist bei Ihnen nicht verfügbar.')\n",
    "\n",
    "if ma.writers.is_available('imagemagick'):\n",
    "    print('MPEG4-Videodateien und viele andere Formate können mit ImageMagick abgespeichert werden.')\n",
    "    print(\"Ein Beispielbefehl: anim.save('test.mp4', writer=ma.ImageMagickWriter(fps=20))\")\n",
    "else:\n",
    "    print('ImageMagick ist bei Ihnen nicht verfügbar.')"
   ]
  },
  {
   "cell_type": "code",
   "execution_count": null,
   "id": "bcd83d96-5574-4685-b594-450890b11533",
   "metadata": {},
   "outputs": [],
   "source": []
  }
 ],
 "metadata": {
  "kernelspec": {
   "display_name": "Python 3 (ipykernel)",
   "language": "python",
   "name": "python3"
  },
  "language_info": {
   "codemirror_mode": {
    "name": "ipython",
    "version": 3
   },
   "file_extension": ".py",
   "mimetype": "text/x-python",
   "name": "python",
   "nbconvert_exporter": "python",
   "pygments_lexer": "ipython3",
   "version": "3.9.19"
  }
 },
 "nbformat": 4,
 "nbformat_minor": 5
}
