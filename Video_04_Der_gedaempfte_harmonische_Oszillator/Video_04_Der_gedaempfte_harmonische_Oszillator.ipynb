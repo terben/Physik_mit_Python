{
 "cells": [
  {
   "cell_type": "markdown",
   "id": "f7baa286-e0d7-41bc-8eb0-8a8567da98da",
   "metadata": {},
   "source": [
    "# Der gedämpfte harmonische Oszillator\n",
    "## (symbolische Lösung von DGL mit sympy)"
   ]
  },
  {
   "cell_type": "markdown",
   "id": "bfc88038-867e-4476-b36f-659cd0ae20da",
   "metadata": {},
   "source": [
    "### Das Modell\n",
    "<center><img src=\"figs/oszillator_sketch.png\" width=400 /></center>"
   ]
  },
  {
   "cell_type": "markdown",
   "id": "50e26cd2-74ac-4c4e-86bf-1e4734a6b001",
   "metadata": {},
   "source": [
    "Die Bewegungsgleichung:\n",
    "\\begin{eqnarray}\n",
    "m\\ddot{x}(t) & = & F_K + F_R \\\\\n",
    "          & = & -kx(t) - 2\\delta\\dot{x}(t) \\\\\n",
    "\\end{eqnarray}\n",
    "\n",
    "Mit $k=m\\omega_0^2$ und $\\delta = m\\gamma\\omega_0$ ergibt sich für die Bewegungsgleichung:\n",
    "\n",
    "$$\n",
    "\\boxed{\\ddot{x}(t) + 2\\gamma\\omega_0 \\dot{x}(t) + \\omega_0^2 x(t) = 0}.\n",
    "$$\n",
    "\n",
    "Anfangsbedingungen: $x(0)=1; \\dot{x}(0)=0$"
   ]
  },
  {
   "cell_type": "code",
   "execution_count": null,
   "id": "60c9d35d-222a-4f7b-bdbe-2db55251f8a0",
   "metadata": {
    "tags": []
   },
   "outputs": [],
   "source": [
    "import numpy as np\n",
    "import matplotlib.pyplot as plt\n",
    "import sympy as sp\n",
    "\n",
    "sp.init_printing()"
   ]
  },
  {
   "cell_type": "markdown",
   "id": "3e69fa56-ba34-481e-9c73-3fac6683aad5",
   "metadata": {},
   "source": [
    "#### Schritt 1: Definiere nötige `sympy`-Größen"
   ]
  },
  {
   "cell_type": "code",
   "execution_count": null,
   "id": "05f7cca3-4c72-492b-93b4-200955595a71",
   "metadata": {
    "tags": []
   },
   "outputs": [],
   "source": [
    "## SOLUTION\n",
    "\n",
    "t, gamma, omega0 = sp.symbols('t gamma omega0')\n",
    "x = sp.symbols('x', cls=sp.Function)\n",
    "x = x(t)"
   ]
  },
  {
   "cell_type": "markdown",
   "id": "07427776-889a-4681-a1aa-fd05d4a4ea47",
   "metadata": {},
   "source": [
    "#### Schritt 2: Definiere die zu lösende Differentialgleichung und lasse sie von `sympy` lösen"
   ]
  },
  {
   "cell_type": "code",
   "execution_count": null,
   "id": "3c1343a1-01f2-471d-855f-9e9ca1cfc6dc",
   "metadata": {
    "tags": []
   },
   "outputs": [],
   "source": [
    "## SOLUTION\n",
    "\n",
    "dgl = sp.Eq(x.diff(t, t) + 2 * omega0 * gamma * x.diff(t) + omega0**2 * x, 0)\n",
    "dgl"
   ]
  },
  {
   "cell_type": "code",
   "execution_count": null,
   "id": "b08697ed-b51a-4243-b60f-bf88cabcf968",
   "metadata": {
    "tags": []
   },
   "outputs": [],
   "source": [
    "## SOLUTION\n",
    "\n",
    "# Es ist nützlich zur Weiterverarbeitung sofort die rechte Seite der\n",
    "# Ergebnisgleichung zu isolieren:\n",
    "sol = sp.dsolve(dgl).rhs\n",
    "sol"
   ]
  },
  {
   "cell_type": "markdown",
   "id": "de6108d3-e863-4d1d-9a8a-07aca786372f",
   "metadata": {},
   "source": [
    "#### Schritt 3: Definiere die Anfamgsbedingungen und löse die Differentialgleichung erneut\n",
    "\n",
    "Unsere Anfangsbedingungen: $\\quad x(0) = 1 \\quad\\text{und}\\quad \\left.\\frac{dx(t)}{dt}\\right|_{t=0}=0$"
   ]
  },
  {
   "cell_type": "code",
   "execution_count": null,
   "id": "613aaada-d1a8-413a-93a8-54797e3f0276",
   "metadata": {
    "tags": []
   },
   "outputs": [],
   "source": [
    "## SOLUTION\n",
    "\n",
    "# Die Anfamgswerte sind in einen Dictionary zu definieren:\n",
    "ics = {x.subs(t, 0) : 1, x.diff(t).subs(t, 0) : 0}\n",
    "ics"
   ]
  },
  {
   "cell_type": "code",
   "execution_count": null,
   "id": "c4b8c0e3-b7a3-4c40-a921-3d201204ea98",
   "metadata": {
    "tags": []
   },
   "outputs": [],
   "source": [
    "## SOLUTION\n",
    "\n",
    "sol = sp.dsolve(dgl, ics=ics).rhs\n",
    "sp.print_latex(sol)"
   ]
  },
  {
   "cell_type": "markdown",
   "id": "7d4a2aca-1f24-4b38-9764-2af26654d32a",
   "metadata": {},
   "source": [
    "Wir wissen aus Physik 1 (Mechanik):\n",
    "1. $\\gamma=0$: ungedämpfte harmonische Schwingungen\n",
    "2. $\\gamma > 1$: Keine Schwingungen des Systens; exponentieller Abfall der Anfangsauslenkung \n",
    "3. $\\gamma < 1$: Schwingungen, deren Amplitude exponentiell kleiner wird\n",
    "4. $\\gamma=1$: Grenzfall zwischen den Fällen 2 und 3"
   ]
  },
  {
   "cell_type": "markdown",
   "id": "57909322-15bc-4048-9b0f-2792d273a546",
   "metadata": {},
   "source": [
    "#### Schritt 4: Weiterverarbeitung der Lösung (Testen der einzelnen Fälle)"
   ]
  },
  {
   "cell_type": "markdown",
   "id": "fcc58a2b-a2ce-45fb-9a1f-f0a6cf755a9d",
   "metadata": {},
   "source": [
    "#### Schritt 4.1: Der Fall $\\gamma=0$"
   ]
  },
  {
   "cell_type": "markdown",
   "id": "e074e1e3-33f4-4ffa-bf11-7fc9da03f462",
   "metadata": {},
   "source": [
    "Beachte: $\\quad\\cos(x)=\\frac 12(\\exp(\\rm{i}x)+\\exp(-\\rm{i}x)) \\quad\\text{und}\\quad\\sin(x)=\\frac 1{2\\rm{i}}(\\exp(\\rm{i}x)-\\exp(-\\rm{i}x))$"
   ]
  },
  {
   "cell_type": "code",
   "execution_count": null,
   "id": "f6013c15-6060-4b6e-8c15-60936b181cab",
   "metadata": {
    "tags": []
   },
   "outputs": [],
   "source": [
    "## SOLUTION\n",
    "\n",
    "# Wir müssen die komplexen Exponentialfunktionen in eine\n",
    "# reelle sinus-Funtion umwandeln\n",
    "sol_gamma_0 = sol.subs({gamma: 0})\n",
    "sol_gamma_0.rewrite(sp.cos)"
   ]
  },
  {
   "cell_type": "markdown",
   "id": "e925c054-8a98-41d5-9652-cea385a00a4f",
   "metadata": {},
   "source": [
    "#### Schritt 4.2: Der Fall $\\gamma > 1$"
   ]
  },
  {
   "cell_type": "code",
   "execution_count": null,
   "id": "dd72f05d-80b0-4d64-88ff-2b1cc7f41c4d",
   "metadata": {
    "tags": []
   },
   "outputs": [],
   "source": [
    "## SOLUTION\n",
    "\n",
    "# Durch Umschreiben des Ergebnisses sieht man besser, dass die Lösung \n",
    "# einen exponentiellen Abfall beschreibt. \n",
    "sol_gamma_2 = sol.subs({gamma: 2})\n",
    "sol_gamma_2"
   ]
  },
  {
   "cell_type": "markdown",
   "id": "00177942-6fd0-42bd-8122-e356be6cd028",
   "metadata": {},
   "source": [
    "#### Schritt 4.3: Der Fall $\\gamma < 1$"
   ]
  },
  {
   "cell_type": "code",
   "execution_count": null,
   "id": "324abe30-55f1-4861-98ff-abbd0847059d",
   "metadata": {
    "tags": []
   },
   "outputs": [],
   "source": [
    "## SOLUTION\n",
    "\n",
    "# Hier erfordert das Umformen in einen exponentiell abfallende Sinusschwingung\n",
    "# etwas 'try and error'!\n",
    "sol_gamma_0p5 = sol.subs({gamma: sp.Rational(1,2)})\n",
    "sol_gamma_0p5 = sol_gamma_0p5.expand().rewrite(sp.cos).factor().simplify()\n",
    "sol_gamma_0p5"
   ]
  },
  {
   "cell_type": "markdown",
   "id": "a7c332be-91eb-4037-8243-d3795f96df7e",
   "metadata": {},
   "source": [
    "#### Schritt 4.4: Der Fall $\\gamma = 1$"
   ]
  },
  {
   "cell_type": "code",
   "execution_count": null,
   "id": "d2fa3a5b-0639-48d2-96d2-028a4afff924",
   "metadata": {},
   "outputs": [],
   "source": [
    "## SOLUTION\n",
    "\n",
    "# Durch umformen der Lösung sieht man, dass für gamma=1 sowohl Zähler als auch\n",
    "# Nenner gegen 0 gehen.\n",
    "sol_fac = sol.factor()\n",
    "sol_fac"
   ]
  },
  {
   "cell_type": "code",
   "execution_count": null,
   "id": "0bb82adc-e996-49fc-a36d-ce814e07ac7c",
   "metadata": {},
   "outputs": [],
   "source": [
    "## SOLUTION\n",
    "\n",
    "# Hier ein sympy Weg, um zu sehen, dass Zähler und Nenner der allgemeinen\n",
    "# Lösung für gamma=1 formal zu Null werden.\n",
    "z, n = sp.fraction(sol_fac)\n",
    "z.subs({gamma: 1}), n.subs({gamma: 1})"
   ]
  },
  {
   "cell_type": "markdown",
   "id": "a470a4a5-7f8d-405c-ac09-60743a4da213",
   "metadata": {},
   "source": [
    "Da Zähler und Nenner der Lösung für $\\gamma=1$ formal zu Null werden,\n",
    "ist hier eine Limes-Betrachtung der Lösung erforderlich:\n",
    "\n",
    "$$\n",
    "\\lim_{\\gamma\\to 1}  \\frac{\\left(\\gamma e^{2 \\omega_{0} t \\sqrt{\\gamma^{2} - 1}} - \\gamma + \\sqrt{\\gamma^{2} - 1} e^{2 \\omega_{0} t \\sqrt{\\gamma^{2} - 1}} + \\sqrt{\\gamma^{2} - 1}\\right) e^{- \\gamma \\omega_{0} t} e^{- \\omega_{0} t \\sqrt{\\gamma^{2} - 1}}}{2 \\sqrt{\\left(\\gamma - 1\\right) \\left(\\gamma + 1\\right)}}\\quad = \\quad ?\n",
    "$$"
   ]
  },
  {
   "cell_type": "code",
   "execution_count": null,
   "id": "dd01cae8-32be-4fc5-9c4e-ad9c6ac894ce",
   "metadata": {},
   "outputs": [],
   "source": [
    "## SOLUTION\n",
    "\n",
    "sol_gamma_1 = sol_fac.limit(gamma, 1)\n",
    "sol_gamma_1"
   ]
  },
  {
   "cell_type": "markdown",
   "id": "87c65d54-9fc9-412e-a1e9-204bc562497d",
   "metadata": {
    "tags": []
   },
   "source": [
    "#### Schritt 5: Plotten der Ergebnisse"
   ]
  },
  {
   "cell_type": "markdown",
   "id": "fe752ae0-4231-45e2-b942-ed68aa225473",
   "metadata": {},
   "source": [
    "`sympy`-Ausdrücke können in `numpy`-Funktionen umgewandelt werden.  Dies erlaubt z.B. eine Weiterverarbeitung mit `scipy` oder `matplotlib`. "
   ]
  },
  {
   "cell_type": "code",
   "execution_count": null,
   "id": "70e0f830-7332-4a46-b621-0753d73d53d9",
   "metadata": {
    "tags": []
   },
   "outputs": [],
   "source": [
    "## SOLUTION\n",
    "\n",
    "# Zum Plotten wandeln wir einen sympy-Ausdruck in eine numpy-Funtion um:\n",
    "sol_n = sp.lambdify(t, sol.subs({gamma: 0.1, omega0: sp.pi}))\n",
    "\n",
    "t_n = np.linspace(0.0, 5.0, 100)\n",
    "plt.plot(t_n, sol_n(t_n).real)\n",
    "plt.plot(t_n, np.exp(-1./10. * np.pi * t_n))"
   ]
  },
  {
   "cell_type": "code",
   "execution_count": null,
   "id": "e3796cbc-b9df-439a-8157-7be5d929cc18",
   "metadata": {},
   "outputs": [],
   "source": [
    "## SOLUTION\n",
    "\n",
    "# Plot für mehrere Fälle\n",
    "t_n = np.linspace(0.0, 4, 1000)\n",
    "for i in (0., 0.2, 0.5, 1.0, 2.0):\n",
    "    # Da wir für gamma=1 die Lösung bearbeiten müssen, brauchen\n",
    "    # wir hier eine Fallunterscheidung\n",
    "    if np.isclose(i, 1):\n",
    "        sol_n = sp.lambdify(t, sol_gamma_1.subs({omega0: sp.pi}))\n",
    "    else:\n",
    "        sol_n = sp.lambdify(t, sol.subs({gamma: i, omega0: sp.pi}))\n",
    "\n",
    "    plt.plot(t_n, sol_n(t_n).real, label=f'gamma: {i}')\n",
    "   \n",
    "plt.xlabel(\"t\")\n",
    "plt.ylabel(\"x(t)\")\n",
    "plt.legend()"
   ]
  }
 ],
 "metadata": {
  "kernelspec": {
   "display_name": "Python 3 (ipykernel)",
   "language": "python",
   "name": "python3"
  },
  "language_info": {
   "codemirror_mode": {
    "name": "ipython",
    "version": 3
   },
   "file_extension": ".py",
   "mimetype": "text/x-python",
   "name": "python",
   "nbconvert_exporter": "python",
   "pygments_lexer": "ipython3",
   "version": "3.9.17"
  }
 },
 "nbformat": 4,
 "nbformat_minor": 5
}
