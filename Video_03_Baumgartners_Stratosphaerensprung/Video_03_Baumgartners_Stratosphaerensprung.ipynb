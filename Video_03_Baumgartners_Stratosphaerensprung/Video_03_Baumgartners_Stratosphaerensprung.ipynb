{
 "cells": [
  {
   "cell_type": "markdown",
   "id": "5239fc10-49f8-4e54-b380-3c83fb0814d8",
   "metadata": {},
   "source": [
    "# Felix Baumgartners Stratosphärensprung\n",
    "\n",
    "## (Numerische Lösung von DGL höherer Ordnung)"
   ]
  },
  {
   "cell_type": "markdown",
   "id": "520173b9-74bc-426f-b466-43b8fbda5cc4",
   "metadata": {},
   "source": [
    "Am 14. Oktober 2012 führte Felix Baumgartner einen Fallschirmsprung aus 39 km Höhe aus (Stratosphärensprung)."
   ]
  },
  {
   "cell_type": "markdown",
   "id": "1f6dfbea-b4e2-4c36-8573-8980ac9a7b4c",
   "metadata": {},
   "source": [
    "<center><img src=\"figs/Sprung_Baumgartner_tile_x1.jpg\" width=1000 /> </center>\n",
    "\n",
    "Fakten aus der Presse:\n",
    "- Absprunghöhe: 39 km\n",
    "- Maximalgeschwindigkeit (Überschall): 1358 km/h (377.2 m/s) nach ca. 50 Sekunden\n",
    "- Freier Fall: 4 Min. und 20 Sekunden\n",
    "- Fallschirm geöffnet bei ca. 2000 m über Grund\n",
    "- Gesamtdauer des Sprungs: ca. 10 Min."
   ]
  },
  {
   "cell_type": "markdown",
   "id": "2b98b142-e79c-4469-8b8d-c62086fc2f94",
   "metadata": {
    "tags": []
   },
   "source": [
    "## Modellierung des Sprungs (freier Fall mit Reibung)\n",
    "\n",
    "$$\n",
    "m\\ddot{z}(t)=-mg+\\underbrace{\\frac 12 \\rho(z)C_w(z)A(z)\\dot{z}(t)^2}_{F_R(z, t)}\n",
    "$$\n",
    "\n",
    "Die DGL muss für zwei Phasen des Sprungs separat gelöst werden!\n",
    "\n",
    "<img src=\"figs/skydive_sketch.png\" style=\"margin:25px;\" align=\"left\" width=300 />\n",
    "\n",
    "<br />\n",
    "<br />\n",
    "<br />\n",
    "\n",
    "- $g$: &nbsp; &nbsp; &nbsp; &nbsp; Schwerekraftbeschleunigung (9.8 ms$^{-2}$).\n",
    "- $m$: &nbsp; &nbsp; &nbsp; &nbsp; Masse von Felix Baumgartner inkl. Ausrüstung (118 kg).\n",
    "- $\\rho(z)$: &nbsp; &nbsp; Dichte der Luft\n",
    "- $A(z)$: &nbsp; &nbsp; Wirkungsquerschnitt des Springers\n",
    "- $C_w(z)$: &nbsp; Widerstandsbeiwert (Formfaktor)"
   ]
  },
  {
   "cell_type": "markdown",
   "id": "71ec77a6-6933-4de4-a69d-84b5959e8ca5",
   "metadata": {},
   "source": [
    "## Konstanten und Anfangsbedingungen:"
   ]
  },
  {
   "cell_type": "markdown",
   "id": "6d38abe6-1d58-4387-85d5-728b823bf3a1",
   "metadata": {},
   "source": [
    "<img src=\"figs/Sprung_2_final.jpg\" style=\"margin:25px;\" align=\"left\" width=200 />\n",
    "\n",
    "  <br />\n",
    "  \n",
    "  - $t_0 = 0$ s, $z(t_0) = 39$ km; $\\dot{z}(t_0)=0$ m/s\n",
    "  - $g=9.8$ ms$^{-2}$, $m=118$ kg, $A(z) =0.9$ m$^2$, $C_w(z)=0.3$\n",
    "  - $\\rho(z) = 1.22\\exp(-\\frac z{10\\text{ km}})$ kg m$^{-3}$"
   ]
  },
  {
   "cell_type": "markdown",
   "id": "d740cf37-6fca-4552-96e3-ace9e5876bf0",
   "metadata": {},
   "source": [
    "<img src=\"figs/Sprung_3_final.jpg\" style=\"margin:25px;\" align=\"left\" width=200 />\n",
    "\n",
    "  <br />\n",
    "  \n",
    "  - $t_f =$ ?, $z(t_f)\\approx 2.0$ km, $\\dot{z}(t_f)=$ ? ($t_f$ und $\\dot{z}(t_f)$ ergeben sich aus Phase 1)\n",
    "  - $g=9.8$ ms$^{-2}$, $m=118$ kg, $A(z)=50$ m$^2$, $C_w(z)=1.5$\n",
    "  - $\\rho(z)=1.22$ kg m$^{-3}$"
   ]
  },
  {
   "cell_type": "markdown",
   "id": "0d64e382-0931-406d-ab1b-af7f83b38248",
   "metadata": {},
   "source": [
    "# Lösung in Python"
   ]
  },
  {
   "cell_type": "markdown",
   "id": "42789928-41c9-40e4-b456-fd9a8269baa6",
   "metadata": {},
   "source": [
    "### Überführung einer DGL 2. Ordnung in ein System aus 2 gekoppelten DGL 1. Ordnung\n",
    "\n",
    "Allgemeine DGL 2. Ordnung: \n",
    "\\begin{equation}\n",
    "\\ddot{x}(t) = f(x(t), \\dot{x}(t), t) \\tag{1}\n",
    "\\end{equation}\n",
    "\n",
    "Definiere $w(t) = \\dot{x}(t)$ und wir erhalten für (1) das DGL-System:\n",
    "$$\n",
    "\\begin{eqnarray}\n",
    "\\dot{x}(t) & = & w(t) \\\\\n",
    "\\dot{w}(t) & = & f(x(t), w(t), t)\n",
    "\\end{eqnarray}\n",
    "$$\n",
    "\n",
    "**Beachte:** Zur numerischen Lösung werden Anfangsbedingungen für $x(t_0)$ und $w(t_0)=\\dot{x}(t_0)$ benötigt. "
   ]
  },
  {
   "cell_type": "code",
   "execution_count": null,
   "id": "2c6e1124-5c4c-4477-a405-8cebfe76b42d",
   "metadata": {},
   "outputs": [],
   "source": [
    "import numpy as np\n",
    "import matplotlib.pyplot as plt\n",
    "from scipy.integrate import odeint\n",
    "\n",
    "# Luftdichte für Phase 1:\n",
    "def rho_phase1(z):\n",
    "    # Wir rechnen in Einheiten von Metern:\n",
    "    return 1.22 * np.exp(-z / 10000)"
   ]
  },
  {
   "cell_type": "markdown",
   "id": "17e05068-619d-41e0-955d-4fd12f1497ad",
   "metadata": {},
   "source": [
    "1. Bringe die zweite Ableitung auf die linke Seite der Gleichung und den Rest auf die rechte\n",
    "$$\n",
    "\\ddot{z}(t)=-g+\\frac 1{2m} \\rho(z)C_w(z)A(z)\\dot{z}(t)^2\n",
    "$$"
   ]
  },
  {
   "cell_type": "markdown",
   "id": "fbd4d494-1e5c-44a3-bc83-98533d31a7a5",
   "metadata": {},
   "source": [
    "2. Transformiere die DGL in ein System aus gekoppelten DGL 1. Ordnung\n",
    "\n",
    "$$\n",
    "\\begin{eqnarray}\n",
    "\\dot{z}(t) & = & w(t) \\\\\n",
    "\\dot{w}(t) & = & -g+\\frac 1{2m} \\rho(z)C_w(z)A(z)w(t)^2\n",
    "\\end{eqnarray}\n",
    "$$"
   ]
  },
  {
   "cell_type": "markdown",
   "id": "3d68fa60-73b4-45a2-b744-8e534917c09d",
   "metadata": {},
   "source": [
    "3. Definiere $\\vec{S}=(z, w)$ und bringe das DGL-System in Vektorform:\n",
    "$$ \\vec{S} = \\begin{bmatrix} z(t) \\\\ w(t) \\end{bmatrix} \\hspace{5mm} \\implies  \\hspace{5mm} \\frac{\\rm{d}\\vec{S}}{\\rm{d}t} = \\begin{bmatrix} \\dot{z}(t) \\\\ \\dot{w}(t) \\end{bmatrix} = \\begin{bmatrix} w(t) \\\\ -g + \\frac 1{2m}\\rho(z)C_w(z)A(z)w(t)^2 \\end{bmatrix}$$"
   ]
  },
  {
   "cell_type": "markdown",
   "id": "e0f506bc-4895-4100-aa15-9e480244ce38",
   "metadata": {},
   "source": [
    "3. definiere eine Python-Funktion mit Argumenten (S, t, ...) und Rückgabewert ${\\rm d}\\vec{S}/{\\rm d}t$: "
   ]
  },
  {
   "cell_type": "code",
   "execution_count": null,
   "id": "05651d6d-0a57-40b0-b087-fb2836576ab6",
   "metadata": {},
   "outputs": [],
   "source": [
    "## SOLUTION\n",
    "def dSdt(S, t, g, m, phase):\n",
    "    z, w = S\n",
    "    \n",
    "    if phase == 1:\n",
    "        A = 0.9\n",
    "        C_w = 0.3\n",
    "        rho = rho_phase1(z)\n",
    "    else:\n",
    "        A = 50\n",
    "        C_w = 1.5\n",
    "        rho = 1.22\n",
    "        \n",
    "    return [ w, \n",
    "             -g + rho * C_w * A * w**2 / (2. * m) ]    "
   ]
  },
  {
   "cell_type": "markdown",
   "id": "591d1fb2-5956-4699-aded-0e0a5a76c105",
   "metadata": {},
   "source": [
    "4. definiere Zeiten, an denen das DGL-System gelöst werden soll, die Anfangsbedingung und nötige Konstanten. Zuletzt mit allem die DGL-Routine `odeint` aufrufen:"
   ]
  },
  {
   "cell_type": "code",
   "execution_count": null,
   "id": "defc3ddd-ce68-4d62-b505-d1d24e6a75f8",
   "metadata": {},
   "outputs": [],
   "source": [
    "## SOLUTION\n",
    "\n",
    "# phase 1:\n",
    "t_phase1 = np.linspace(0.0, 300, 1000)\n",
    "g = 9.81\n",
    "m = 118\n",
    "phase = 1\n",
    "w0 = 0\n",
    "z0 = 39000\n",
    "\n",
    "S_phase1 = odeint(dSdt, t=t_phase1, y0=(z0, w0), args=(g, m, phase))\n",
    "z_phase1 = S_phase1[:,0]\n",
    "w_phase1 = S_phase1[:,1]\n",
    "\n",
    "# alternativ:\n",
    "#S_phase1 = odeint(dSdt, t=t_phase1, y0=(z0, w0), args=(g, m, phase)).T\n",
    "#z_phase1, w_phase1 = S_phase1"
   ]
  },
  {
   "cell_type": "code",
   "execution_count": null,
   "id": "53a1df85-814e-4b55-b0ab-8940a7c52455",
   "metadata": {},
   "outputs": [],
   "source": [
    "## SOLUTION\n",
    "\n",
    "mask = z_phase1 > 2000\n",
    "z_phase1 = z_phase1[mask]\n",
    "w_phase1 = w_phase1[mask]\n",
    "t_phase1 = t_phase1[mask]"
   ]
  },
  {
   "cell_type": "code",
   "execution_count": null,
   "id": "9002d051-d5e1-4222-9c5e-686870bf5e4d",
   "metadata": {},
   "outputs": [],
   "source": [
    "## SOLUTION\n",
    "\n",
    "t_phase2 = np.linspace(t_phase1[-1], 700, 1000)\n",
    "g = 9.81\n",
    "m = 118\n",
    "phase = 2\n",
    "w0 = w_phase1[-1]\n",
    "z0 = z_phase1[-1]\n",
    "\n",
    "S_phase2 = odeint(dSdt, t=t_phase2, y0=(z0, w0), args=(g, m, phase))\n",
    "z_phase2 = S_phase2[:,0]\n",
    "w_phase2 = S_phase2[:,1]\n",
    "\n",
    "# alternativ:\n",
    "#S_phase2 = odeint(dSdt, t=t_phase2, y0=(z0, w0), args=(g, m, phase)).T\n",
    "#z_phase2, w_phase2 = S_phase2"
   ]
  },
  {
   "cell_type": "code",
   "execution_count": null,
   "id": "f787459d-b128-44c6-9350-fb0b09b62518",
   "metadata": {},
   "outputs": [],
   "source": [
    "## SOLUTION\n",
    "\n",
    "mask = z_phase2 > 0\n",
    "z_phase2 = z_phase2[mask]\n",
    "w_phase2 = w_phase2[mask]\n",
    "t_phase2 = t_phase2[mask]"
   ]
  },
  {
   "cell_type": "markdown",
   "id": "28fe034a-c48f-4982-861f-043432f5656f",
   "metadata": {},
   "source": [
    "5. Plotten der Ergebnisse und Interpretation"
   ]
  },
  {
   "cell_type": "code",
   "execution_count": null,
   "id": "ec54429a-c532-407b-aca9-0ebfbedbebe0",
   "metadata": {},
   "outputs": [],
   "source": [
    "## SOLUTION\n",
    "\n",
    "fig, (ax1, ax2) = plt.subplots(1, 2)\n",
    "\n",
    "ax1.plot(t_phase1, z_phase1, label='phase 1')\n",
    "ax1.plot(t_phase2, z_phase2, label='phase 2')\n",
    "ax1.set_xlabel(r'$t$ [s]')\n",
    "ax1.set_ylabel(r'$z(t)$ [m]')\n",
    "ax1.legend()\n",
    "ax2.plot(t_phase1, w_phase1, label='phase 1')\n",
    "ax2.plot(t_phase2, w_phase2, label='phase 2')\n",
    "ax2.set_xlabel(r'$t$ [s]')\n",
    "ax2.set_ylabel(r'$w(t)=\\dot{z}(t)$ [m/s]')\n",
    "ax2.legend()\n",
    "\n",
    "# Damit alle Achsenbeschriftungen gut passen und die\n",
    "# Figuren nicht zu eng beieinander stehen.\n",
    "fig.tight_layout()"
   ]
  },
  {
   "cell_type": "code",
   "execution_count": null,
   "id": "6517aae7-1534-4348-8e11-6d4c07e8be07",
   "metadata": {},
   "outputs": [],
   "source": [
    "## SOLUTION\n",
    "\n",
    "# alternative Lösung: zusammenfügen der beiden Lösungen\n",
    "# zu einem Array\n",
    "z_all = np.concatenate((z_phase1, z_phase2))\n",
    "w_all = np.concatenate((w_phase1, w_phase2))\n",
    "t_all = np.concatenate((t_phase1, t_phase2))\n",
    "\n",
    "fig, (ax1, ax2) = plt.subplots(1, 2)\n",
    "\n",
    "ax1.plot(t_all, z_all)\n",
    "ax1.set_xlabel(r'$t$ [s]')\n",
    "ax1.set_ylabel(r'$z(t)$ [m]')\n",
    "ax2.plot(t_all, w_all)\n",
    "ax2.set_xlabel(r'$t$ [s]')\n",
    "ax2.set_ylabel(r'$w(t)=\\dot{z}(t)$ [m/s]')\n",
    "\n",
    "# Damit alle Achsenbeschriftungen gut passen und die\n",
    "# Figuren nicht zu eng beieinander stehen.\n",
    "fig.tight_layout()"
   ]
  },
  {
   "cell_type": "markdown",
   "id": "e0aba816-1add-40b1-aa7d-67317acbfe31",
   "metadata": {},
   "source": [
    "Bestimme das Maximum der Geschwindigkeit $w_{\\rm max}(t)=|\\dot{z}_{\\rm max}(t)|$ und die Zeit ihres Auftretens $t_{\\rm max}$. Erreicht Felix in unserem Modell die Schallgeschwindigkeit von 343 m/s?"
   ]
  },
  {
   "cell_type": "code",
   "execution_count": null,
   "id": "c7b7cdbd-c052-4dcb-8570-c8ce6b8a52bc",
   "metadata": {},
   "outputs": [],
   "source": [
    "## SOLUTION\n",
    "\n",
    "# Ohne Kommentare eine der Lösungsmöglichkeiten. \n",
    "# Fragen Sie bei Unklarheiten bitte in den YouTube-Kommentaren\n",
    "# Die Schallgeschwindigkeit von 343 m/s wird knapp verfehlt!\n",
    "mask = w_all[1:] - w_all[:-1] > 0\n",
    "t_min = t_all[1:][mask][0]\n",
    "w_min = w_all[1:][mask][0]\n",
    "t_min, w_min"
   ]
  },
  {
   "cell_type": "markdown",
   "id": "1f9a56b9-aabd-480b-bf1c-ea84c5f90516",
   "metadata": {},
   "source": [
    "## Quellen"
   ]
  },
  {
   "cell_type": "markdown",
   "id": "dd2e0d35-b293-481f-9756-7aec4902405e",
   "metadata": {},
   "source": [
    "- [10 Jahre Stratosphärensprung auf der Red Bull Webseite](https://www.redbull.com/int-en/felix-baumgartner-stratos-10-years) \n",
    "- Nähere Erläuterungen zur Physik des Fallschirmsprungs finden sich \n",
    "[hier](https://ethz.ch/content/dam/ethz/special-interest/dual/educeth-dam/documents/Unterrichtsmaterialien/mathematik/gruene-berichte/fallschirmspringer.pdf).\n",
    "- Bildquellen:\n",
    "  - [Bild vor dem Absprung](https://www.redbull.com/de-de/flieg-mit-baumgartner-red-bull-stratos-pov-video)\n",
    "  - [Bild vom Freien Fall](https://www.swr.de/wissen/1000-antworten/wie-schnell-kann-ein-mensch-vom-himmel-fallen-100.html)\n",
    "  - [Bild mit geöffnetem Fallschirm](https://www.faz.net/aktuell/gesellschaft/menschen/sprung-aus-36-500-metern-am-fallschirm-zwischen-schoenheit-und-tod-11909348.html)\n",
    "  - [Bild von der Landung](https://www.spiegel.de/wissenschaft/weltall/felix-baumgartner-springt-aus-39-kilometern-zur-erde-a-861241.html)\n",
    "  - [Logo Fallschirmsprung 1](https://de.vecteezy.com/vektorkunst/17127790-fallschirm-logo-icon-design-und-symbol-fallschirmsprung-vektor)\n",
    "  - [Logo Fallschirmsprung 2](https://stock.adobe.com/de/search?k=skydive+logo)"
   ]
  },
  {
   "cell_type": "markdown",
   "id": "44e921f0-d0d3-43bc-934b-d036ab864cfc",
   "metadata": {},
   "source": [
    "## Anhang"
   ]
  },
  {
   "cell_type": "markdown",
   "id": "f7529a2a-315d-473b-85e0-82387fe198d4",
   "metadata": {},
   "source": [
    "### Diiferentialgleichungen höherer Ordnung"
   ]
  },
  {
   "cell_type": "markdown",
   "id": "e0c5d627-6e7a-4254-b604-84fa5dd9d8c5",
   "metadata": {},
   "source": [
    "Das Verfahren zur Überführung von Gleichungen zweiter Ordnung in ein gekoppeltes System von DGL erster Ordnung kann in natürlicher Weise auf höhere Ordnungen fortgesetzt werden. Wir wollen den allgemeinen Fall anhand eines Systems 3. Ordnung exemplarisch behandeln."
   ]
  },
  {
   "cell_type": "markdown",
   "id": "a4f6fe37-34d3-45dc-aabd-971fce0b0a0e",
   "metadata": {},
   "source": [
    "**Beispiel:** Betrachte folgendes System aus DGL 3. Ordnung: "
   ]
  },
  {
   "cell_type": "markdown",
   "id": "04e4017f-c427-421b-a3bc-70687dfa7940",
   "metadata": {},
   "source": [
    "\\begin{eqnarray}\n",
    "\\dddot{x_1} & = & -2\\dot{x_2}^2 + x_2 \\tag{2} \\\\\n",
    "\\dddot{x_2} & = & -\\ddot{x_1}^3 + \\dot{x_2} + x_1 + \\sin(t) \\tag{3}\n",
    "\\end{eqnarray}"
   ]
  },
  {
   "cell_type": "markdown",
   "id": "7b9535c4-37de-4389-8ea3-493e729272c8",
   "metadata": {},
   "source": [
    "Hier müssen neue Variable für `alle` Ableitungen ausschliesslich der höchsten Ordnung definiert werden."
   ]
  },
  {
   "cell_type": "markdown",
   "id": "082c8816-91c2-4607-b4f3-51355330c971",
   "metadata": {},
   "source": [
    "Definiere für unseren Fall:\n",
    "\n",
    "- $v_1 = \\dot{x_1}$\n",
    "- $v_2 = \\dot{x_2}$\n",
    "- $w_1 = \\ddot{x_1} = \\dot{v_1}$\n",
    "- $w_2 = \\ddot{x_2} = \\dot{v_2}$\n",
    "\n",
    "Dies sind 4 gekoppelte DGL erster Ordnung! Mit $\\dot{w_1} = \\dddot{x_1}$ und $\\dot{w_2} = \\dddot{x_2}$ ergibt sich für die ursprünglichen Gleichungen (2) und (3):\n",
    "\n",
    "- $\\dot{w_2} = -w_1^3 + v_2 + x_1 + \\sin(t)$\n",
    "- $\\dot{w_1} = -2v_2^2 + x_2$\n",
    "\n",
    "Und weiter mit unserem Lösungsschema:\n",
    "\n",
    "$$\\vec{S} = \\begin{bmatrix} x_1\\\\ x_2 \\\\ v_1 \\\\ v_2 \\\\ w_1 \\\\ w_2 \\end{bmatrix} \\hspace{10mm} \\implies \\hspace{10mm} \\frac{d\\vec{S}}{dt} = \\begin{bmatrix} \\dot{x_1}\\\\ \\dot{x_2} \\\\ \\dot{v_1} \\\\ \\dot{v_2} \\\\ \\dot{w_1} \\\\ \\dot{w_2} \\end{bmatrix} =  \\begin{bmatrix} v_1\\\\ v_2 \\\\ w_1 \\\\ w_2 \\\\ -2v_2^2 + x_2 \\\\ -w_1^3 + v_2 + x_1 + \\sin(t) \\end{bmatrix}$$"
   ]
  },
  {
   "cell_type": "code",
   "execution_count": null,
   "id": "e23ffbd2-5eb9-4321-9668-892f226084fb",
   "metadata": {},
   "outputs": [],
   "source": [
    "def dSdt(S, t):\n",
    "    x1, x2, v1, v2, w1, w2 = S\n",
    "    return [v1,\n",
    "            v2,\n",
    "            w1,\n",
    "            w2,\n",
    "            -2 * v2**2 + x2,\n",
    "            -w1**3 + v2 + v1 + np.sin(t)]"
   ]
  },
  {
   "cell_type": "code",
   "execution_count": null,
   "id": "12f99243-8a54-4a10-82f8-041ca0032f0e",
   "metadata": {},
   "outputs": [],
   "source": [
    "t = np.linspace(0, 1.0, 100)\n",
    "x1_0 = 0\n",
    "x2_0 = 0\n",
    "v1_0 = 0\n",
    "v2_0 = 0\n",
    "w1_0 = 0\n",
    "w2_0 = 0\n",
    "S_0 = (x1_0, x2_0, v1_0, v2_0, w1_0, w2_0)\n",
    "\n",
    "S = odeint(dSdt, t=t, y0=S_0).T\n",
    "\n",
    "x1_sol, x2_sol, v1_sol, v2_sol, w1_sol, w2_sol = S"
   ]
  },
  {
   "cell_type": "code",
   "execution_count": null,
   "id": "139b6638-5176-4241-852b-8a3ec887167f",
   "metadata": {},
   "outputs": [],
   "source": [
    "fig, (ax1, ax2, ax3) = plt.subplots(1, 3)\n",
    "\n",
    "ax1.plot(t, x1_sol, label=\"x1_sol\")\n",
    "ax1.set_xlabel('t')\n",
    "ax1.set_ylabel('x1')\n",
    "ax2.plot(t, x2_sol, label=\"x2_sol\")\n",
    "ax2.set_xlabel('t')\n",
    "ax2.set_ylabel('x2')\n",
    "ax3.plot(t, w1_sol, label=\"w1_sol\")\n",
    "ax3.set_xlabel('t')\n",
    "ax3.set_ylabel('w1')\n",
    "\n",
    "ax1.legend()\n",
    "ax2.legend()\n",
    "ax3.legend()\n",
    "\n",
    "fig.tight_layout()"
   ]
  }
 ],
 "metadata": {
  "kernelspec": {
   "display_name": "Python 3 (ipykernel)",
   "language": "python",
   "name": "python3"
  },
  "language_info": {
   "codemirror_mode": {
    "name": "ipython",
    "version": 3
   },
   "file_extension": ".py",
   "mimetype": "text/x-python",
   "name": "python",
   "nbconvert_exporter": "python",
   "pygments_lexer": "ipython3",
   "version": "3.9.16"
  }
 },
 "nbformat": 4,
 "nbformat_minor": 5
}
