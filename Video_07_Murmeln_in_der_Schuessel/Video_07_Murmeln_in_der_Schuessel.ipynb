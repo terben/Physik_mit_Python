{
 "cells": [
  {
   "cell_type": "markdown",
   "id": "2d5c09e4-8ef3-4324-9705-1a0e7addee79",
   "metadata": {},
   "source": [
    "# Murmeln in der Schüssel (Das Prinzip von d'Alembert)"
   ]
  },
  {
   "cell_type": "markdown",
   "id": "9a2c80d5-12e3-4b33-b83b-d223fe3605fc",
   "metadata": {},
   "source": [
    "**Anmerkung:** Dies ist eine erweiterte Version des Notebooks für das siebte Video der `Physik mit Python` YouTube-Reihe. Die YouTube Version ist etwas allgemeiner gehalten und sie erhält auch nicht die explizite Behandlung von Zwangskräften."
   ]
  },
  {
   "cell_type": "markdown",
   "id": "cf70b619-aac7-4ae2-b5c9-cbc8235df47d",
   "metadata": {},
   "source": [
    "Wir betrachten die eindimensionale Bewegung von Murmeln in einer Schüssel.\n",
    "\n",
    "Die Schüssel sei durch einen Parameter in der $x, y$-Ebene darstellbar: $x=x(\\theta), z=z(\\theta)$. Hierbei ist $\\theta = \\theta(t)$."
   ]
  },
  {
   "cell_type": "markdown",
   "id": "a6b1e9b0-cb56-49e7-ac8a-3f6df930df2d",
   "metadata": {},
   "source": [
    "<center><img src=\"figs/pendel_sketch.png\" width=400 height=300></center>"
   ]
  },
  {
   "cell_type": "markdown",
   "id": "1f3e741f-2858-40cd-ad50-183713a34493",
   "metadata": {},
   "source": [
    "Wir wollen die Bewegungsgleichungen für $\\theta(t)$ und damit für $x(\\theta)$ und $y(\\theta)$ finden.\n",
    "\n",
    "Mit $\\vec{r} = \\begin{pmatrix} x \\\\ z \\end{pmatrix}$ lauten die Newtonschen Bewegungsgleichungen für das System:\n",
    "\n",
    "$$\n",
    "m \\ddot{\\vec{r}} = \\vec{F}_g + \\vec{F}_Z = \\begin{pmatrix} 0 \\\\ -mg \\end{pmatrix} + \\vec{F}_Z \\tag{1}\n",
    "$$\n",
    "\n",
    "Wir kennen allerdings $\\vec{F}_Z$ nicht! Jedoch verrichten Zwangskräfte im vorliegenden Fall auf den *durch sie erlaubten Bahnen keine physikalische Arbeit* am System:\n",
    "\n",
    "$$\n",
    "\\vec{r}_{\\rm c} = \\begin{pmatrix} x_{\\rm c} \\\\ z_{\\rm c} \\end{pmatrix};\\quad W_Z = \\int \\vec{F}_Z\\,\\text{d}\\vec{r}_{\\rm c} = \\int \\vec{F}_Z\\vec{v}_{\\rm c}\\,\\text{d}t \\overset{!}{=}0\n",
    "$$ (Anwendung des [Prinzips von d'Alembert](https://de.wikipedia.org/wiki/D%E2%80%99Alembertsches_Prinzip)). Dies hat $\\vec{F}_Z\\vec{v}_{\\rm c}\\equiv 0$ zur Folge.\n",
    "\n",
    "Aus (1) können wir damit $\\vec{F}_Z$ eliminieren:\n",
    "\n",
    "$$\n",
    "0 = m \\ddot{\\vec{r}} - \\vec{F}_g - \\vec{F}_Z \\xRightarrow[]{\\text{d'Alembert}} \\left( m \\ddot{\\vec{r}_{\\rm c}} - \\vec{F}_g - \\vec{F}_Z\\right)\\cdot{\\vec{v}_{\\rm c}} = \\left( m \\ddot{\\vec{r}_{\\rm c}} - \\vec{F}_g\\right)\\cdot\\vec{v}_{\\rm c} = 0\n",
    "$$\n",
    "\n",
    "Aus \n",
    "\n",
    "$$\n",
    "\\left( m \\ddot{\\vec{r}_{\\rm c}} - \\vec{F}_g\\right)\\cdot{\\vec{v}_{\\rm c}} = 0 \\tag{2}\n",
    "$$\n",
    "\n",
    "leiten wir die Bewegungsgleichung für $\\theta(t)$ ab, *ohne* $\\vec{F}_Z$ kennen zu müssen!\n",
    "\n",
    "Wenn man daran interessiert ist, können nach Lösung der Bewegungsgleichungen über (2) die Zwangskräfte mit\n",
    "\n",
    "$$\n",
    "\\vec{F}_Z = m \\ddot{\\vec{r_c}} = \\vec{F}_g\n",
    "$$\n",
    "\n",
    "erhalten werden."
   ]
  },
  {
   "cell_type": "code",
   "execution_count": null,
   "id": "0367aecc-a0d4-4ede-83b8-36373e6d62e2",
   "metadata": {
    "tags": []
   },
   "outputs": [],
   "source": [
    "import numpy as np\n",
    "import matplotlib.pyplot as plt\n",
    "import matplotlib.animation as ma\n",
    "import sympy as sp\n",
    "import scipy.integrate as si\n",
    "\n",
    "sp.init_printing()"
   ]
  },
  {
   "cell_type": "markdown",
   "id": "8d8bee1a-7800-4240-bf0f-564b1621ea35",
   "metadata": {},
   "source": [
    "## 1. Analytische Bewegungsgleichungen mit SymPy"
   ]
  },
  {
   "cell_type": "markdown",
   "id": "a146bbd3-6cc2-4b4c-bd54-0926ddf73652",
   "metadata": {},
   "source": [
    "### Notwendige SymPy Größen"
   ]
  },
  {
   "cell_type": "code",
   "execution_count": null,
   "id": "0a8ae12d-fdcb-4779-a4a7-f281e37599cd",
   "metadata": {},
   "outputs": [],
   "source": [
    "l, g, t, m = sp.symbols(\"l, g, t, m\", real=True, positive=True)\n",
    "    \n",
    "theta = sp.symbols(r\"\\theta\", cls=sp.Function)\n",
    "theta = theta(t)"
   ]
  },
  {
   "cell_type": "code",
   "execution_count": null,
   "id": "091284c6-6a0c-4a74-9bad-ec9cf81b8279",
   "metadata": {},
   "outputs": [],
   "source": [
    "theta_d = sp.diff(theta, t)\n",
    "theta_dd = sp.diff(theta, t, 2)\n",
    "theta_dd"
   ]
  },
  {
   "cell_type": "markdown",
   "id": "57366a44-c36d-4450-a30a-1c6c8a49ab02",
   "metadata": {},
   "source": [
    "### Die Schüsselformen"
   ]
  },
  {
   "cell_type": "code",
   "execution_count": null,
   "id": "ad7ba8e9-f843-4a6a-86a9-f1e71e99f613",
   "metadata": {
    "tags": []
   },
   "outputs": [],
   "source": [
    "form = 'Zykloide'\n",
    "\n",
    "if form == 'Kreis':\n",
    "    xc = l * sp.sin(theta)\n",
    "    zc = -l * sp.cos(theta)\n",
    "\n",
    "if form == 'Parabel':    \n",
    "    xc = theta\n",
    "    zc = l * (2 / sp.pi)**2 * theta**2 - l\n",
    "\n",
    "if form == 'Zykloide':    \n",
    "    xc = l / 2 * (2 * theta + sp.sin(2 * theta))\n",
    "    zc = l / 2 * (-1 - sp.cos(2 * theta))"
   ]
  },
  {
   "cell_type": "markdown",
   "id": "a5e68ec9-eb9a-48ae-b75e-f1da8d94af65",
   "metadata": {},
   "source": [
    "### Implementation von $\\left( m \\ddot{\\vec{r}_{\\rm c}} - \\vec{F}_g\\right)\\cdot{\\vec{v}_{\\rm c}} = 0$"
   ]
  },
  {
   "cell_type": "code",
   "execution_count": null,
   "id": "22c3105c-14ad-417f-85f0-f04fec144a31",
   "metadata": {
    "tags": []
   },
   "outputs": [],
   "source": [
    "# Kurvenvektor\n",
    "rc = sp.Matrix([xc, zc])\n",
    "rc"
   ]
  },
  {
   "cell_type": "code",
   "execution_count": null,
   "id": "28220ed6-e2ec-44ac-8314-32a6844a1365",
   "metadata": {},
   "outputs": [],
   "source": [
    "# Kurvengeschwindigkeit\n",
    "vc = sp.diff(rc, t)\n",
    "vc"
   ]
  },
  {
   "cell_type": "code",
   "execution_count": null,
   "id": "177cfe8b-3170-47f0-9e89-dcc526a9b792",
   "metadata": {},
   "outputs": [],
   "source": [
    "# Gewichtskraft\n",
    "Fg = sp.Matrix([0, -m * g])\n",
    "Fg"
   ]
  },
  {
   "cell_type": "code",
   "execution_count": null,
   "id": "8ec4462d-b947-400d-91eb-3dda68e7aca4",
   "metadata": {},
   "outputs": [],
   "source": [
    "# Skalarprodukt zwischen Newtongleichung und Geschwindigkeit\n",
    "ngl = (m * sp.diff(rc, t, 2) - Fg).dot(vc)\n",
    "ngl = ngl.simplify()\n",
    "ngl"
   ]
  },
  {
   "cell_type": "code",
   "execution_count": null,
   "id": "032dfa12-0ea4-4b4e-8e9f-e20c90919683",
   "metadata": {
    "tags": []
   },
   "outputs": [],
   "source": [
    "# Bewegungsgleichung für theta (zweite Ableitung von theta)\n",
    "bgl, = sp.solve(ngl, theta_dd)\n",
    "sp.Eq(theta_dd, bgl)"
   ]
  },
  {
   "cell_type": "code",
   "execution_count": null,
   "id": "c769f6ce-403c-43f8-9304-4e7c82000859",
   "metadata": {},
   "outputs": [],
   "source": [
    "## SOLUTION\n",
    "\n",
    "# Zelle für die Zwangskraft\n",
    "\n",
    "# Zwangskraft als Funktion von\n",
    "# theta und theta_d (theta_dd wird eliminiert)\n",
    "Fz = m * sp.diff(rc, t, 2) - Fg\n",
    "Fz = sp.simplify(Fz.subs(theta_dd, bgl))\n",
    "Fz"
   ]
  },
  {
   "cell_type": "markdown",
   "id": "6b860b35-7344-4e54-9301-18ca406bf736",
   "metadata": {},
   "source": [
    "## 2. Numerische Lösung der Bewegungsgleichung mit SciPy"
   ]
  },
  {
   "cell_type": "code",
   "execution_count": null,
   "id": "3197b827-5352-4db6-98cd-7e1b9772dcb4",
   "metadata": {},
   "outputs": [],
   "source": [
    "# Festlegung der Konstanten\n",
    "const = {l : 1, g : 9.81, m : 1}\n",
    "xc = xc.subs(const)\n",
    "zc = zc.subs(const)\n",
    "bgl = bgl.subs(const)"
   ]
  },
  {
   "cell_type": "code",
   "execution_count": null,
   "id": "395c4219-4aff-4843-967e-ba016c494d54",
   "metadata": {},
   "outputs": [],
   "source": [
    "## SOLUTION\n",
    "\n",
    "# Zelle für die Zwangskraft\n",
    "Fz = Fz.subs(const)"
   ]
  },
  {
   "cell_type": "code",
   "execution_count": null,
   "id": "5255d3c5-093d-438e-83a0-a852a2d82893",
   "metadata": {
    "tags": []
   },
   "outputs": [],
   "source": [
    "# Numpy-Funktionen für Positionen und zweite Ableitung von theta\n",
    "xc_n = sp.lambdify(theta, xc) \n",
    "zc_n = sp.lambdify(theta, zc)\n",
    "theta_dd_n = sp.lambdify((theta, theta_d), bgl)"
   ]
  },
  {
   "cell_type": "code",
   "execution_count": null,
   "id": "aecd6c56-b3e5-4e14-86c5-48a79d4383ac",
   "metadata": {},
   "outputs": [],
   "source": [
    "## SOLUTION\n",
    "\n",
    "# Zelle für die Zwangskraft\n",
    "\n",
    "# Numpy-Funktion für die Zwangskraft\n",
    "Fzx_n = sp.lambdify((theta, theta_d), Fz[0])\n",
    "Fzz_n = sp.lambdify((theta, theta_d), Fz[1])"
   ]
  },
  {
   "cell_type": "markdown",
   "id": "d4fdaf19-5cb0-4f64-9eed-93fccca29c9d",
   "metadata": {},
   "source": [
    "Wir haben:\n",
    "$$\n",
    "\\ddot{\\theta}(t) = \\lambda(\\theta, \\dot{\\theta}(t), t)\n",
    "$$\n",
    "Definiere $\\omega(t)=\\dot{\\theta}(t)$ und wir erhalten das gekoppelte DGL-System 1. Ordnung:\n",
    "\n",
    "\\begin{eqnarray}\n",
    "\\dot{\\theta}(t) & = & \\omega(t) \\\\\n",
    "\\dot{\\omega}(t) & = & \\lambda(\\theta, \\omega(t), t)\\\\\n",
    "\\end{eqnarray}\n",
    "\n",
    "Definiere $S=(\\theta(t), \\omega(t))$ und weiter mit der numerischen Lösung mit `odeint` wie in vorherigen Teilen der Serie."
   ]
  },
  {
   "cell_type": "markdown",
   "id": "6545c0f7-10c8-4f5d-a5fa-8805904fadfb",
   "metadata": {},
   "source": [
    "Schreibe eine Python-Funktion zur Berechnung von\n",
    "\n",
    "$$\n",
    "\\frac{dS}{dt} = \\begin{bmatrix} \\dot{\\theta}(t) \\\\ \\dot{\\omega}(t)\\end{bmatrix} = \\begin{bmatrix} \\omega(t) \\\\ \\lambda(\\theta, \\omega(t), t)\\end{bmatrix}\n",
    "$$"
   ]
  },
  {
   "cell_type": "code",
   "execution_count": null,
   "id": "f552e7b9-3364-4813-8d9b-3e8a916e0b42",
   "metadata": {
    "tags": []
   },
   "outputs": [],
   "source": [
    "def dSdt(S, t):\n",
    "    theta_n, omega_n = S\n",
    "    \n",
    "    return [\n",
    "        omega_n,   # dtheta / dt\n",
    "        theta_dd_n(theta_n, omega_n)  # domega / dt\n",
    "    ]"
   ]
  },
  {
   "cell_type": "markdown",
   "id": "199819dc-ac1f-4970-a136-a4cb4375866e",
   "metadata": {},
   "source": [
    "Bestimme die Zeiten zu denen die DGL gelöst werden soll, lege die Anfangsbedingungen fest und löse die DGL mit `odeint`:"
   ]
  },
  {
   "cell_type": "code",
   "execution_count": null,
   "id": "fab7c4ac-1137-4323-b311-8a1352382dd3",
   "metadata": {
    "tags": []
   },
   "outputs": [],
   "source": [
    "nframes = 300\n",
    "nseconds = 10\n",
    "t_n = np.linspace(0, nseconds, nframes)\n",
    "\n",
    "# Wir berechnen Lösungen für mehrere \n",
    "# Anfangsauslenkungen und speichern diese\n",
    "# in einer Liste\n",
    "theta_n_l = []\n",
    "omega_n_l = []\n",
    "\n",
    "theta0_vals = [ -sp.pi / 3, -sp.pi / 4, -sp.pi / 6, -sp.pi / 8]\n",
    "\n",
    "# Kreispendel mit kleinen Auslenkungen\n",
    "#theta0_vals = [ -sp.pi / 8, -sp.pi / 16, -sp.pi / 32]\n",
    "\n",
    "for theta0 in theta0_vals:\n",
    "    S0 = (theta0.n(), 0)\n",
    "    S = si.odeint(dSdt, t=t_n, y0=S0).T\n",
    "    theta_n_l.append(S[0])\n",
    "    omega_n_l.append(S[1])  # Für Zwangskräfte\n",
    "\n",
    "# Wir wandeln die Python-Listen von theta und omega\n",
    "# in numpy-Arrays um, damit wir sie als Argumente von\n",
    "# numpy-Funktionen verwenden können - siehe die direkt\n",
    "# folgenden Aufrufe:\n",
    "theta_n_l = np.array(theta_n_l)\n",
    "omega_n_l = np.array(omega_n_l)\n",
    "\n",
    "# (x, y)-Positionen der Murmeln für die Animation\n",
    "xc_n_l = xc_n(theta_n_l)\n",
    "zc_n_l = zc_n(theta_n_l)"
   ]
  },
  {
   "cell_type": "code",
   "execution_count": null,
   "id": "fa514ccf-d40f-4ce0-9794-602ec42ee714",
   "metadata": {},
   "outputs": [],
   "source": [
    "## SOLUTION\n",
    "\n",
    "# Zelle für die Zwangskraft\n",
    "\n",
    "# Zwangskräfte für die Animation mit\n",
    "# Kräften\n",
    "Fzx_n_l = Fzx_n(theta_n_l, omega_n_l)\n",
    "Fzz_n_l = Fzz_n(theta_n_l, omega_n_l)"
   ]
  },
  {
   "cell_type": "markdown",
   "id": "2c7ca68c-69eb-4b20-ab13-b656855930ad",
   "metadata": {},
   "source": [
    "## 3. Visualisierung der Ergebnisse"
   ]
  },
  {
   "cell_type": "markdown",
   "id": "72ec3fb5-9d66-4c04-8342-efe3307d2832",
   "metadata": {},
   "source": [
    "### Einfache Plots"
   ]
  },
  {
   "cell_type": "code",
   "execution_count": null,
   "id": "3adfa41c-a594-4180-8d2c-5f2d1a9b115e",
   "metadata": {
    "tags": []
   },
   "outputs": [],
   "source": [
    "plt.plot(t_n, theta_n_l[0,:], t_n, theta_n_l[1,:], t_n, theta_n_l[2,:])"
   ]
  },
  {
   "cell_type": "markdown",
   "id": "d2d92a58-f859-4034-863b-2cb1d4e60422",
   "metadata": {},
   "source": [
    "### Animation der Murmelbewegungen"
   ]
  },
  {
   "cell_type": "code",
   "execution_count": null,
   "id": "f8d34fc4-4f26-4b94-8aa9-0e16c4d8668d",
   "metadata": {
    "tags": []
   },
   "outputs": [],
   "source": [
    "fig, ax = plt.subplots(1, 1, figsize=(9.5, 3.5), constrained_layout=True)\n",
    "\n",
    "colors = ['blue', 'purple', 'yellow', 'white', 'red', 'lime', 'cyan', 'orange', 'gray']\n",
    "\n",
    "# Für Plots mit kleinen Winkeln verwenden wir:\n",
    "#colors = ['red', 'lime', 'cyan', 'orange', 'gray']\n",
    "\n",
    "for i in range(len(theta_n_l)):\n",
    "    if i == 0:\n",
    "        ax.plot(xc_n_l[0,:], zc_n_l[0,:], color='black', lw=1, alpha=0.7, zorder=1)\n",
    "        ax.fill_between(xc_n_l[0,np.argsort(xc_n_l[0,:])], \n",
    "                        zc_n_l[0,np.argsort(xc_n_l[0,:])], \n",
    "                        y2=-1, color='black', alpha=0.1, zorder=2)\n",
    "\n",
    "    # Das folgende Plot-Kommando ist nur für die Legende zuständig!\n",
    "    ax.plot([], [], 'o', markersize=8, color='black', \n",
    "            markerfacecolor=colors[i], label=fr'$\\theta_0: {sp.latex(theta0_vals[i])}$')\n",
    "\n",
    "# Wir realisieren die Murmeln als Scatter-Plot:\n",
    "scat = ax.scatter(xc_n_l[:,0], zc_n_l[:,0], c=colors[:len(theta_n_l)], \n",
    "                  edgecolors='black', s=100, zorder=3)\n",
    "\n",
    "ax.legend(loc=\"upper center\", ncol=len(xc_n_l), \n",
    "          fontsize=15, frameon=True)\n",
    "ax.set_title(form, fontsize=20)\n",
    "ax.set_ylim(zc_n_l[0,:].min(), zc_n_l[0,:].max())\n",
    "ax.set_xlim(xc_n_l[0,:].min(), xc_n_l[0,:].max())\n",
    "ax.grid()\n",
    "ax.set_aspect('equal')\n",
    "\n",
    "# Der Faktor '2' im Nenner von fps streckt das\n",
    "# Video zeitlich um einen Faktor 2.\n",
    "fps = nframes / (2 * nseconds)\n",
    "\n",
    "writer = ma.PillowWriter(fps=fps)\n",
    "\n",
    "with writer.saving(fig, f'{form}.gif', dpi=100):\n",
    "    for frame in range(nframes):\n",
    "       scat.set_offsets(np.column_stack((xc_n_l[:,frame], zc_n_l[:,frame])))\n",
    "       writer.grab_frame() "
   ]
  },
  {
   "cell_type": "markdown",
   "id": "0f896495-3738-4eb8-9361-262a5d6412c1",
   "metadata": {},
   "source": [
    "### Animation der Bewegung mit Kräften"
   ]
  },
  {
   "cell_type": "code",
   "execution_count": null,
   "id": "a2a9e67b-3fa9-4801-95d6-c3e04567cc08",
   "metadata": {},
   "outputs": [],
   "source": [
    "# Welche Lösung (welche Anfangsbedingung) \n",
    "# wollen wir animieren\n",
    "loesung = 0  # maximal: len(theta0_vals) - 1\n",
    "\n",
    "fig, ax = plt.subplots(1, 1, figsize=(9.5, 3.5), constrained_layout=True)\n",
    "\n",
    "ax.plot(xc_n_l[0,:], zc_n_l[0,:], color='black', lw=1, alpha=0.7, zorder=1)\n",
    "\n",
    "ax.set_ylim(zc_n_l[0,:].min() - 0.5, zc_n_l[0,:].max() + 0.2)\n",
    "ax.set_xlim(xc_n_l[0,:].min() - 0.1, xc_n_l[0,:].max() + 0.2)\n",
    "\n",
    "ax.xaxis.set_ticklabels([])\n",
    "ax.yaxis.set_ticklabels([])\n",
    "ax.xaxis.set_ticks([])\n",
    "ax.yaxis.set_ticks([])\n",
    "ax.set_title(f'Kräfte beim {form}-Pendel', fontsize=20)\n",
    "\n",
    "# Die Murmel\n",
    "dot, = ax.plot([], [], 'o', markersize=10, color='red')\n",
    "\n",
    "# Kräfte werden durch Pfeile dargestellt\n",
    "\n",
    "# Gesamtkraft\n",
    "arr1 = ax.arrow(0.0, 0.0, 0.0, 0.0, width=0.01, \n",
    "                facecolor='black', edgecolor='black',\n",
    "                label=r'$\\vec{F}_{\\rm tot}$')\n",
    "\n",
    "# Zwangskraft\n",
    "arr2 = ax.arrow(0.0, 0.0, 0.0, 0.0, width=0.01, \n",
    "                facecolor='blue', edgecolor='blue',\n",
    "                label=r'$\\vec{F}_{\\rm z}$')\n",
    "\n",
    "# Gewichtskraft\n",
    "arr3 = ax.arrow(0.0, 0.0, 0.0, 0.0, width=0.01, \n",
    "                facecolor='green', edgecolor='green',\n",
    "                label=r'$\\vec{F}_{\\rm g}$')\n",
    "\n",
    "ax.legend(loc='lower center', ncol=3, fontsize=15)\n",
    "ax.set_aspect('equal')\n",
    "\n",
    "fps = nframes / (2 * nseconds)\n",
    "\n",
    "writer = ma.PillowWriter(fps=fps)\n",
    "\n",
    "# Multilikationsfaktor für die Länge der Kraftpfeile\n",
    "fac = 0.015\n",
    "\n",
    "with writer.saving(fig, f'{form}_Kraefte.gif', dpi=100):\n",
    "    for frame in range(nframes):\n",
    "        dot.set_data([xc_n_l[loesung, frame]], [zc_n_l[loesung, frame]])\n",
    "\n",
    "        arr1.set_data(x=xc_n_l[loesung, frame], y=zc_n_l[loesung, frame],\n",
    "                     dx=2 * Fzx_n_l[loesung][frame] * fac, \n",
    "                     dy=2 * (Fzz_n_l[loesung][frame] - const[g]) * fac)\n",
    "        arr2.set_data(x=xc_n_l[loesung, frame], y=zc_n_l[loesung, frame],\n",
    "                     dx=2 * Fzx_n_l[loesung][frame] * fac, \n",
    "                     dy=2 * Fzz_n_l[loesung][frame] * fac)\n",
    "        arr3.set_data(x=xc_n_l[loesung, frame], y=zc_n_l[loesung, frame],\n",
    "                     dx=0.0, \n",
    "                     dy=-2 * const[g] * fac)\n",
    "\n",
    "        writer.grab_frame()"
   ]
  },
  {
   "cell_type": "code",
   "execution_count": null,
   "id": "3cbca602-92ff-4d1c-97c6-50458e5dd7dc",
   "metadata": {},
   "outputs": [],
   "source": []
  }
 ],
 "metadata": {
  "kernelspec": {
   "display_name": "Python 3 (ipykernel)",
   "language": "python",
   "name": "python3"
  },
  "language_info": {
   "codemirror_mode": {
    "name": "ipython",
    "version": 3
   },
   "file_extension": ".py",
   "mimetype": "text/x-python",
   "name": "python",
   "nbconvert_exporter": "python",
   "pygments_lexer": "ipython3",
   "version": "3.9.20"
  }
 },
 "nbformat": 4,
 "nbformat_minor": 5
}
