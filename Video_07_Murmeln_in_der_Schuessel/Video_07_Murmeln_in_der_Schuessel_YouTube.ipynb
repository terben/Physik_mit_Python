{
 "cells": [
  {
   "cell_type": "markdown",
   "id": "2d5c09e4-8ef3-4324-9705-1a0e7addee79",
   "metadata": {},
   "source": [
    "# Murmeln in der Schüssel (Das Prinzip von d'Alembert)"
   ]
  },
  {
   "cell_type": "markdown",
   "id": "2e4f23f7-46d8-497b-8da0-09087b1f0d57",
   "metadata": {},
   "source": [
    "**Dies ist die Notebook-Version des YouTube-Videos**"
   ]
  },
  {
   "cell_type": "markdown",
   "id": "cf70b619-aac7-4ae2-b5c9-cbc8235df47d",
   "metadata": {},
   "source": [
    "Wir betrachten die eindimensionale Bewegung von Murmeln in einer Schüssel.\n",
    "\n",
    "Die Schüssel sei durch einen Parameter in der $x, y$-Ebene darstellbar: $x=x(\\theta), z=z(\\theta)$. Hierbei ist $\\theta = \\theta(t)$."
   ]
  },
  {
   "cell_type": "markdown",
   "id": "a6b1e9b0-cb56-49e7-ac8a-3f6df930df2d",
   "metadata": {},
   "source": [
    "<center><img src=\"figs/pendel_sketch.png\" width=400 height=300></center>"
   ]
  },
  {
   "cell_type": "markdown",
   "id": "1f3e741f-2858-40cd-ad50-183713a34493",
   "metadata": {},
   "source": [
    "Wir wollen die Bewegungsgleichungen für $\\theta(t)$ und damit für $x(\\theta)$ und $y(\\theta)$ finden.\n",
    "\n",
    "Mit $\\vec{r} = \\begin{pmatrix} x \\\\ z \\end{pmatrix}$ lauten die Newtonschen Bewegungsgleichungen für das System:\n",
    "\n",
    "$$\n",
    "m \\ddot{\\vec{r}} = \\vec{F}_g + \\vec{F}_Z = \\begin{pmatrix} 0 \\\\ -mg \\end{pmatrix} + \\vec{F}_Z \\tag{1}\n",
    "$$\n",
    "\n",
    "Wir kennen allerdings $\\vec{F}_Z$ nicht! Jedoch verrichten Zwangskräfte im vorliegenden Fall auf den *durch sie erlaubten Bahnen keine physikalische Arbeit* am System:\n",
    "\n",
    "$$\n",
    "\\vec{r}_{\\rm c} = \\begin{pmatrix} x_{\\rm c} \\\\ z_{\\rm c} \\end{pmatrix};\\quad W_Z = \\int \\vec{F}_Z\\,\\text{d}\\vec{r}_{\\rm c} = \\int \\vec{F}_Z\\vec{v}_{\\rm c}\\,\\text{d}t \\overset{!}{=}0\n",
    "$$ (Anwendung des [Prinzips von d'Alembert](https://de.wikipedia.org/wiki/D%E2%80%99Alembertsches_Prinzip)). Dies hat $\\vec{F}_Z\\vec{v}_{\\rm c}\\equiv 0$ zur Folge.\n",
    "\n",
    "Aus (1) können wir damit $\\vec{F}_Z$ eliminieren:\n",
    "\n",
    "$$\n",
    "0 = m \\ddot{\\vec{r}} - \\vec{F}_g - \\vec{F}_Z \\xRightarrow[]{\\text{d'Alembert}} \\left( m \\ddot{\\vec{r}_{\\rm c}} - \\vec{F}_g - \\vec{F}_Z\\right)\\cdot{\\vec{v}_{\\rm c}} = \\left( m \\ddot{\\vec{r}_{\\rm c}} - \\vec{F}_g\\right)\\cdot\\vec{v}_{\\rm c} = 0\n",
    "$$\n",
    "\n",
    "Aus \n",
    "\n",
    "$$\n",
    "\\left( m \\ddot{\\vec{r}_{\\rm c}} - \\vec{F}_g\\right)\\cdot{\\vec{v}_{\\rm c}} = 0 \\tag{2}\n",
    "$$\n",
    "\n",
    "leiten wir die Bewegungsgleichung für $\\theta(t)$ ab, *ohne* $\\vec{F}_Z$ kennen zu müssen!"
   ]
  },
  {
   "cell_type": "code",
   "execution_count": null,
   "id": "0367aecc-a0d4-4ede-83b8-36373e6d62e2",
   "metadata": {
    "tags": []
   },
   "outputs": [],
   "source": [
    "import numpy as np\n",
    "import matplotlib.pyplot as plt\n",
    "import matplotlib.animation as ma\n",
    "import sympy as sp\n",
    "import scipy.integrate as si\n",
    "\n",
    "sp.init_printing()"
   ]
  },
  {
   "cell_type": "markdown",
   "id": "8d8bee1a-7800-4240-bf0f-564b1621ea35",
   "metadata": {},
   "source": [
    "## 1. Analytische Bewegungsgleichungen mit SymPy"
   ]
  },
  {
   "cell_type": "markdown",
   "id": "a146bbd3-6cc2-4b4c-bd54-0926ddf73652",
   "metadata": {},
   "source": [
    "### Notwendige SymPy Größen"
   ]
  },
  {
   "cell_type": "code",
   "execution_count": null,
   "id": "0a8ae12d-fdcb-4779-a4a7-f281e37599cd",
   "metadata": {},
   "outputs": [],
   "source": [
    "g, m, l, t = sp.symbols('g, m, l, t', real=True, positive=True)\n",
    "theta = sp.symbols(r'\\theta', cls=sp.Function)\n",
    "theta = theta(t)\n",
    "theta"
   ]
  },
  {
   "cell_type": "code",
   "execution_count": null,
   "id": "d0465a49-6eb1-4cc4-9430-9f23173969c5",
   "metadata": {},
   "outputs": [],
   "source": [
    "theta_d = sp.diff(theta, t)\n",
    "theta_dd = sp.diff(theta, t, 2)\n",
    "theta_dd"
   ]
  },
  {
   "cell_type": "markdown",
   "id": "57366a44-c36d-4450-a30a-1c6c8a49ab02",
   "metadata": {},
   "source": [
    "### Die Schüsselformen"
   ]
  },
  {
   "cell_type": "code",
   "execution_count": null,
   "id": "ad7ba8e9-f843-4a6a-86a9-f1e71e99f613",
   "metadata": {
    "tags": []
   },
   "outputs": [],
   "source": [
    "form = 'Zykloide'\n",
    "\n",
    "if form == 'Kreis':\n",
    "    xc = l * sp.sin(theta)\n",
    "    zc = -l * sp.cos(theta)\n",
    "\n",
    "if form == 'Parabel':\n",
    "    xc = theta\n",
    "    zc = l * (2 / sp.pi)**2 * theta**2 - l\n",
    "\n",
    "if form == 'Zykloide':\n",
    "    xc = l / 2 * (2 * theta + sp.sin(2 * theta))\n",
    "    zc = l / 2 * (-1 - sp.cos(2 * theta))\n",
    "\n"
   ]
  },
  {
   "cell_type": "markdown",
   "id": "a5e68ec9-eb9a-48ae-b75e-f1da8d94af65",
   "metadata": {},
   "source": [
    "### Implementation von $\\left( m \\ddot{\\vec{r}_{\\rm c}} - \\vec{F}_g\\right)\\cdot{\\vec{v}_{\\rm c}} = 0$"
   ]
  },
  {
   "cell_type": "code",
   "execution_count": null,
   "id": "22c3105c-14ad-417f-85f0-f04fec144a31",
   "metadata": {
    "tags": []
   },
   "outputs": [],
   "source": [
    "# Kurvenvektor\n",
    "rc = sp.Matrix([xc, zc])\n",
    "rc"
   ]
  },
  {
   "cell_type": "code",
   "execution_count": null,
   "id": "28220ed6-e2ec-44ac-8314-32a6844a1365",
   "metadata": {},
   "outputs": [],
   "source": [
    "# Kurvengeschwindigkeit\n",
    "vc = sp.diff(rc, t)\n",
    "vc"
   ]
  },
  {
   "cell_type": "code",
   "execution_count": null,
   "id": "177cfe8b-3170-47f0-9e89-dcc526a9b792",
   "metadata": {},
   "outputs": [],
   "source": [
    "# Gewichtskraft\n",
    "Fg = sp.Matrix([0, -m * g])\n",
    "Fg"
   ]
  },
  {
   "cell_type": "code",
   "execution_count": null,
   "id": "8ec4462d-b947-400d-91eb-3dda68e7aca4",
   "metadata": {},
   "outputs": [],
   "source": [
    "# Skalarprodukt zwischen Newtongleichung und Geschwindigkeit\n",
    "ngl = (m * sp.diff(rc, t, 2) - Fg).dot(vc)\n",
    "ngl = ngl.simplify()\n",
    "sp.Eq(ngl, 0)"
   ]
  },
  {
   "cell_type": "code",
   "execution_count": null,
   "id": "032dfa12-0ea4-4b4e-8e9f-e20c90919683",
   "metadata": {
    "tags": []
   },
   "outputs": [],
   "source": [
    "# Bewegungsgleichung für theta (zweite Ableitung von theta)\n",
    "bgl = sp.solve(ngl, theta_dd)[0]\n",
    "sp.Eq(theta_dd, bgl)"
   ]
  },
  {
   "cell_type": "markdown",
   "id": "6b860b35-7344-4e54-9301-18ca406bf736",
   "metadata": {},
   "source": [
    "## 2. Numerische Lösung der Bewegungsgleichung mit SciPy"
   ]
  },
  {
   "cell_type": "code",
   "execution_count": null,
   "id": "3197b827-5352-4db6-98cd-7e1b9772dcb4",
   "metadata": {},
   "outputs": [],
   "source": [
    "# Festlegung der Konstanten\n",
    "const = { m : 1, l : 1, g : 9.81 }\n",
    "\n",
    "bgl = bgl.subs(const)\n",
    "xc = xc.subs(const)\n",
    "zc = zc.subs(const)\n"
   ]
  },
  {
   "cell_type": "code",
   "execution_count": null,
   "id": "5255d3c5-093d-438e-83a0-a852a2d82893",
   "metadata": {
    "tags": []
   },
   "outputs": [],
   "source": [
    "# Numpy-Funktionen für Positionen und zweite Ableitung von theta\n",
    "theta_dd_n = sp.lambdify((theta, theta_d), bgl)\n",
    "xc_n = sp.lambdify(theta, xc)\n",
    "zc_n = sp.lambdify(theta, zc)"
   ]
  },
  {
   "cell_type": "code",
   "execution_count": null,
   "id": "a58aedba-9c6b-4958-bc0a-5ce275a3b70e",
   "metadata": {},
   "outputs": [],
   "source": [
    "zc_n(np.linspace(0.0, 1.0, 10))"
   ]
  },
  {
   "cell_type": "markdown",
   "id": "d4fdaf19-5cb0-4f64-9eed-93fccca29c9d",
   "metadata": {},
   "source": [
    "Wir haben:\n",
    "$$\n",
    "\\ddot{\\theta}(t) = \\lambda(\\theta, \\dot{\\theta}(t), t)\n",
    "$$\n",
    "Definiere $\\omega(t)=\\dot{\\theta}(t)$ und wir erhalten das gekoppelte DGL-System 1. Ordnung:\n",
    "\n",
    "\\begin{eqnarray}\n",
    "\\dot{\\theta}(t) & = & \\omega(t) \\\\\n",
    "\\dot{\\omega}(t) & = & \\lambda(\\theta, \\omega(t), t)\\\\\n",
    "\\end{eqnarray}\n",
    "\n",
    "Definiere $S=(\\theta(t), \\omega(t))$ und weiter mit der numerischen Lösung mit `odeint` wie in vorherigen Teilen der Serie."
   ]
  },
  {
   "cell_type": "markdown",
   "id": "6545c0f7-10c8-4f5d-a5fa-8805904fadfb",
   "metadata": {},
   "source": [
    "Schreibe eine Python-Funktion zur Berechnung von\n",
    "\n",
    "$$\n",
    "\\frac{dS}{dt} = \\begin{bmatrix} \\dot{\\theta}(t) \\\\ \\dot{\\omega}(t)\\end{bmatrix} = \\begin{bmatrix} \\omega(t) \\\\ \\lambda(\\theta, \\omega(t), t)\\end{bmatrix}\n",
    "$$"
   ]
  },
  {
   "cell_type": "code",
   "execution_count": null,
   "id": "f552e7b9-3364-4813-8d9b-3e8a916e0b42",
   "metadata": {
    "tags": []
   },
   "outputs": [],
   "source": [
    "def dSdt(S, t):\n",
    "    theta_n, omega_n = S\n",
    "\n",
    "    return [ omega_n,\n",
    "             theta_dd_n(theta_n, omega_n) \n",
    "           ]"
   ]
  },
  {
   "cell_type": "markdown",
   "id": "199819dc-ac1f-4970-a136-a4cb4375866e",
   "metadata": {},
   "source": [
    "Bestimme die Zeiten zu denen die DGL gelöst werden soll, lege die Anfangsbedingungen fest und löse die DGL mit `odeint`:"
   ]
  },
  {
   "cell_type": "code",
   "execution_count": null,
   "id": "fab7c4ac-1137-4323-b311-8a1352382dd3",
   "metadata": {
    "tags": []
   },
   "outputs": [],
   "source": [
    "t_n = np.linspace(0., 20., 1000)\n",
    "\n",
    "S0_1 = (-np.pi/3, 0)\n",
    "sol_1 = si.odeint(dSdt, y0=S0_1, t=t_n)\n",
    "theta_n_1 = sol_1[:,0]\n",
    "xc_n_1 = xc_n(theta_n_1)\n",
    "zc_n_1 = zc_n(theta_n_1)\n",
    "\n",
    "S0_2 = (-np.pi/4, 0)\n",
    "sol_2 = si.odeint(dSdt, y0=S0_2, t=t_n)\n",
    "theta_n_2 = sol_2[:,0]\n",
    "xc_n_2 = xc_n(theta_n_2)\n",
    "zc_n_2 = zc_n(theta_n_2)"
   ]
  },
  {
   "cell_type": "markdown",
   "id": "2c7ca68c-69eb-4b20-ab13-b656855930ad",
   "metadata": {},
   "source": [
    "## 3. Visualisierung der Ergebnisse"
   ]
  },
  {
   "cell_type": "markdown",
   "id": "72ec3fb5-9d66-4c04-8342-efe3307d2832",
   "metadata": {},
   "source": [
    "### Einfache Plots"
   ]
  },
  {
   "cell_type": "code",
   "execution_count": null,
   "id": "591a045e-1774-4d20-ab2f-01909c3e64a4",
   "metadata": {},
   "outputs": [],
   "source": [
    "plt.plot(t_n, theta_n_1, t_n, theta_n_2)"
   ]
  },
  {
   "cell_type": "markdown",
   "id": "d2d92a58-f859-4034-863b-2cb1d4e60422",
   "metadata": {},
   "source": [
    "### Animation der Murmelbewegungen"
   ]
  },
  {
   "cell_type": "code",
   "execution_count": null,
   "id": "17175b93-f6e4-47b5-908a-436a92e8d23e",
   "metadata": {},
   "outputs": [],
   "source": [
    "fig, ax = plt.subplots(1, 1)\n",
    "\n",
    "ax.plot(xc_n(theta_n_1), zc_n(theta_n_1), color='black')\n",
    "ax.set_xlim(-np.pi / 2, np.pi / 2)\n",
    "ax.set_ylim(-1, 0)\n",
    "\n",
    "m1, = plt.plot([], [], 'ro')\n",
    "m2, = plt.plot([], [], 'bo')\n",
    "\n",
    "writer = ma.PillowWriter(fps = 1000 / 20)\n",
    "\n",
    "with writer.saving(fig, 'murmel.gif', dpi=100):\n",
    "    for frame in range(1000):\n",
    "        m1.set_data([xc_n(theta_n_1[frame])], [zc_n(theta_n_1[frame])])\n",
    "        m2.set_data([xc_n(theta_n_2[frame])], [zc_n(theta_n_2[frame])])\n",
    "\n",
    "        writer.grab_frame()"
   ]
  },
  {
   "cell_type": "code",
   "execution_count": null,
   "id": "fe0544bf-9371-4619-aa7a-b77dc9982e6d",
   "metadata": {},
   "outputs": [],
   "source": []
  }
 ],
 "metadata": {
  "kernelspec": {
   "display_name": "Python 3 (ipykernel)",
   "language": "python",
   "name": "python3"
  },
  "language_info": {
   "codemirror_mode": {
    "name": "ipython",
    "version": 3
   },
   "file_extension": ".py",
   "mimetype": "text/x-python",
   "name": "python",
   "nbconvert_exporter": "python",
   "pygments_lexer": "ipython3",
   "version": "3.9.20"
  }
 },
 "nbformat": 4,
 "nbformat_minor": 5
}
