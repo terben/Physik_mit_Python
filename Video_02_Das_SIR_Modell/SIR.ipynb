{
 "cells": [
  {
   "cell_type": "markdown",
   "id": "50e2d0cd-dd3b-4452-9096-ef9c22549b9c",
   "metadata": {},
   "source": [
    "# Das SIR-Modell\n",
    "\n",
    "## (Systeme von gekoppelten DGL 1. Ordnung)"
   ]
  },
  {
   "cell_type": "markdown",
   "id": "5f22f610-f219-4561-a328-ec9b82f16d7e",
   "metadata": {},
   "source": [
    "### Das SIR-Modell zur Modellierung von Epidemien"
   ]
  },
  {
   "cell_type": "markdown",
   "id": "a491b1c2-936f-49cc-9885-c86cb0a8b3ad",
   "metadata": {},
   "source": [
    "<center><img src=\"figs/SIR.png\" width=600 /> </center>\n",
    "\n",
    "$$\n",
    "\\frac{\\rm{d}s(t)}{\\rm{d}t}=-\\beta \\cdot s(t)\\cdot i(t)\\hspace{17mm} \\frac{\\rm{d}i(t)}{\\rm{d}t}=\\beta\\cdot s(t)\\cdot i(t)-\\alpha \\cdot i(t) \\hspace{8mm} \\frac{\\rm{d}r(t)}{\\rm{d}t}=\\alpha\\cdot i(t)\n",
    "$$\n",
    "\n",
    "Annahmen des Modells:\n",
    "- $s(t)+r(t)+r(t) = 1$       (100% einer Population)\n",
    "$\\Rightarrow \\frac{\\rm{d}s(t)}{\\rm{d}t} + \\frac{\\rm{d}i(t)}{\\rm{d}t} + \\frac{\\rm{d}r(t)}{\\rm{d}t} = 0$\n",
    "- Einmal Genesene werden nicht wieder krank\n",
    "- $1 / \\alpha$ ist konstant (durchschnittliche Krankheitsdauer)\n",
    "- $\\beta$ ist konstant (Ein Infizierter steckt $\\beta$ Anfällige pro Zeiteinheit an)\n",
    "\n",
    "Hinweis:\n",
    "Ein Kranker steckt während seiner Krankheit $R_0=\\beta / \\alpha$ Anfällige an. $R_0$ wird als `Basisreproduktionszahl` einer Pandemie bezeichnet."
   ]
  },
  {
   "cell_type": "markdown",
   "id": "973ffc7b-04ca-497a-9119-0f3a502ca20b",
   "metadata": {},
   "source": [
    "### Anfang der Covid-Pandemie in Deutschland\n",
    "\n",
    "- Tag 0 $(t_0)$ der Epidemie: 1. März 2020\n",
    "- $i(t_0) = \\frac{35}{83166711}; \\quad s(t_0) = 1 - i(t_0); \\quad r(t_0) = 0$ \n",
    "- $1 / \\alpha\\approx 7$ Tage.\n",
    "- $R_0 \\approx 2.85 \\Rightarrow \\beta=R_0 \\alpha\\approx 2.85 / 7\\approx 0.41$ [1/Tage]."
   ]
  },
  {
   "cell_type": "markdown",
   "id": "e9aaa731-5754-4b0e-83f0-a6f91e531367",
   "metadata": {},
   "source": [
    "## Lösung unseres Problems in Python"
   ]
  },
  {
   "cell_type": "code",
   "execution_count": null,
   "id": "e6bd7bfa-2966-48d2-8a20-ee8902e1bdb9",
   "metadata": {},
   "outputs": [],
   "source": [
    "import numpy as np\n",
    "import matplotlib.pyplot as plt\n",
    "from scipy.integrate import odeint"
   ]
  },
  {
   "cell_type": "markdown",
   "id": "57cb8567-0649-4fd6-b972-fd9794abaada",
   "metadata": {},
   "source": [
    "1. Bringe in dem System die Ableitungen auf die linken und alles andere auf die rechten Seiten:\n",
    "\n",
    "\\begin{eqnarray}\n",
    "\\frac{\\rm{d}s(t)}{\\rm{d}t} & = & -\\beta \\cdot s(t)\\cdot i(t) \\\\\n",
    "\\frac{\\rm{d}i(t)}{\\rm{d}t} & = & \\beta\\cdot s(t)\\cdot i(t)-\\alpha \\cdot i(t) \\\\\n",
    "\\frac{\\rm{d}r(t)}{\\rm{d}t} & = & \\alpha\\cdot i(t)\n",
    "\\end{eqnarray}\n",
    "\n",
    "2. Ich definiere den Vektor `System` $\\vec{S}=(s, i, r)$ \n",
    "\n",
    "$$ \\vec{S} = \\begin{bmatrix} s \\\\ i \\\\ r\\end{bmatrix} \\hspace{10mm} \\implies  \\hspace{10mm} \\frac{\\rm{d}\\vec{S}}{\\rm{d}t} = \\vec{f}(\\vec{S}, t) = \\begin{bmatrix}  -\\beta \\cdot s(t)\\cdot i(t) \\\\ \\beta\\cdot s(t)\\cdot i(t)-\\alpha \\cdot i(t) \\\\ \\alpha\\cdot i(t) \\end{bmatrix}$$"
   ]
  },
  {
   "cell_type": "markdown",
   "id": "07e20b46-748f-410b-b34a-a89c7a2cb6a2",
   "metadata": {},
   "source": [
    "3. definiere eine Python-Funktion mit Argumenten (S, t, ...) und Rückgabewert ${\\rm d}\\vec{S}/{\\rm d}t$: "
   ]
  },
  {
   "cell_type": "code",
   "execution_count": null,
   "id": "085b15fd-310c-4842-9ee4-1407c6e18e98",
   "metadata": {},
   "outputs": [],
   "source": [
    "## SOLUTION\n",
    "def dSdt(S, t, alpha, beta):\n",
    "    s, i, r = S\n",
    "    return [ -beta * s * i, beta * s * i - alpha * i, alpha * i ]"
   ]
  },
  {
   "cell_type": "markdown",
   "id": "ed8e4db5-948c-4e8e-aabb-57f30856a03e",
   "metadata": {},
   "source": [
    "4. definiere Zeiten, an denen das DGL-System gelöst werden soll, die Anfangsbedingung und nötige Konstanten. Zuletzt mit allem die DGL-Routine `odeint` aufrufen:"
   ]
  },
  {
   "cell_type": "code",
   "execution_count": null,
   "id": "9d6337f1-f233-415c-aba8-4a02f0857c76",
   "metadata": {},
   "outputs": [],
   "source": [
    "## SOLUTION\n",
    "t = np.linspace(0, 200, 1000)\n",
    "alpha = 1. / 7.\n",
    "beta = 2.85 * alpha\n",
    "i0 = 35 / 83000000\n",
    "s0 = 1. - i0\n",
    "r0 = 0.\n",
    "y0 = [s0, i0, r0]\n",
    "\n",
    "sol = odeint(dSdt, t=t, y0=y0, args=(alpha, beta)).T\n",
    "s_sol, i_sol, r_sol = sol"
   ]
  },
  {
   "cell_type": "markdown",
   "id": "20eabb22-a10a-4a1c-ad6c-83b461d2f9b1",
   "metadata": {},
   "source": [
    "5. Plotten und Weiterverarbeiten der Ergebnisse"
   ]
  },
  {
   "cell_type": "code",
   "execution_count": null,
   "id": "674250d5-edad-4c01-a7ce-01297a307b57",
   "metadata": {},
   "outputs": [],
   "source": [
    "## SOLUTION\n",
    "\n",
    "# Daten plotten mit logarithmisches Darstellung\n",
    "# (Sichtbarmachen von Daten über viele Größenordnungen)\n",
    "plt.plot(t, s_sol, label='s(t)')\n",
    "plt.plot(t, i_sol, label='i(t)')\n",
    "plt.plot(t, r_sol, label='r(t)')\n",
    "plt.xlim(0, 200)\n",
    "plt.axhline(30000 / 83000000)\n",
    "plt.yscale('log')\n",
    "plt.legend()"
   ]
  },
  {
   "cell_type": "code",
   "execution_count": null,
   "id": "18f0cfcc-acb1-4ac1-8dc5-13386575f6e3",
   "metadata": {},
   "outputs": [],
   "source": [
    "## SOLUTION\n",
    "\n",
    "# Daten zusammen mit Covid Infektionsdaten aus Deutschland zeigen:\n",
    "cov_dat = np.loadtxt('data/covid_germany.txt')\n",
    "day, i_cov = cov_dat[:,0], cov_dat[:,1]\n",
    "\n",
    "plt.plot(t, s_sol, label='s(t)')\n",
    "plt.plot(t, i_sol, label='i(t)')\n",
    "plt.plot(t, r_sol, label='r(t)')\n",
    "plt.plot(day, i_cov,'.', label='i(t) Deutschland')\n",
    "plt.xlim(0, 100)\n",
    "plt.axhline(30000 / 83000000)\n",
    "plt.yscale('log')\n",
    "plt.legend()"
   ]
  },
  {
   "cell_type": "markdown",
   "id": "7a37e4c4-afe5-4690-b47c-46b6813a7db9",
   "metadata": {},
   "source": [
    "Archivdateien zu den Covid-Infektionen können [hier](https://www.ecdc.europa.eu/en/covid-19/data) heruntergeladen werden."
   ]
  }
 ],
 "metadata": {
  "kernelspec": {
   "display_name": "Python 3 (ipykernel)",
   "language": "python",
   "name": "python3"
  },
  "language_info": {
   "codemirror_mode": {
    "name": "ipython",
    "version": 3
   },
   "file_extension": ".py",
   "mimetype": "text/x-python",
   "name": "python",
   "nbconvert_exporter": "python",
   "pygments_lexer": "ipython3",
   "version": "3.9.16"
  }
 },
 "nbformat": 4,
 "nbformat_minor": 5
}
