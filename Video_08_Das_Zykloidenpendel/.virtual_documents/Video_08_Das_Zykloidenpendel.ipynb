




















# Python-Module
import numpy as np
import matplotlib.pyplot as plt
import matplotlib.animation as ma
import sympy as sp


# notwendige SymPy-Symbole
l, g = sp.symbols('l, g', real=True, positive=True)
thetap, thetaA = sp.symbols(r"\theta', \theta_A", real=True)

t = sp.symbols('t', real=True, positive=True)

theta = sp.symbols(r'\theta', cls=sp.Function)
s = sp.symbols(r's', cls=sp.Function)

theta = theta(t)
s = s(t)











# Parametrisierung der Zykloide als Funktion von theta'
x = (l / 2) * (2 * thetap + sp.sin(2 * thetap))
z = (l / 2) * (-1 - sp.cos(2 * thetap))


# Berechnung der Bogenlänge s(theta)
i = sp.sqrt(x.diff(thetap)**2 + z.diff(thetap)**2).simplify().refine(sp.Q.positive(sp.cos(thetap)))
s_eq = sp.Eq(s, sp.integrate(i, (thetap, 0, theta)))             
s_eq


# Bestimmung von theta(s)
theta_s = sp.solve(s_eq, theta)[1]
theta_s








# Die Bewegungsgleichung für theta(t); siehe Video 07 der Reihe
theta_d = sp.diff(theta, t)
theta_dd = sp.diff(theta, t, 2)

bgl = sp.Eq(theta_dd, (-g / (2 * l) + theta_d**2) * sp.tan(theta))
bgl


# Einsetzen von theta(s)
bgl_s = bgl.subs({theta : theta_s}).doit()
bgl_s


# Auflösen nach der zweiten Zeitableitung von s
# und Bestimmung der Bewegungsgleichung:
s_dd = sp.diff(s, t, 2)

dgl_s = sp.Eq(s_dd, sp.solve(bgl_s, s_dd)[0])
dgl_s








# Analystische Lösung der DGL für s(t)
s_ana = sp.dsolve(dgl_s)
s_ana


# Anfangsbedingungen (initial conditions)
ics={s.subs({t : 0}) : 2 * l * sp.sin(thetaA), s.diff(t).subs({t : 0}) : 0}
ics


# Lösung der DGL mit Anfangsbedingungen
s_ana = sp.dsolve(dgl_s, ics=ics)
s_ana


# Lösung für theta(t) (s(t) aus der Bogenlänge einsetzen)
theta_ana = sp.solve(s_ana.subs({s_eq.lhs : s_eq.rhs}), theta)[1]
sp.Eq(theta, theta_ana)


# analytische Lösung für x(t):
x_ana = x.subs({thetap : theta_ana}).simplify()
x_ana


# analytische Lösung für z(t):
z_ana = z.subs({thetap : theta_ana}).simplify()
z_ana





## SOLUTION

theta_n = sp.lambdify((thetaA, t), theta_ana.subs({l : 1, g : 9.81}))
x_n = sp.lambdify((thetaA, t), x_ana.subs({l : 1, g : 9.81}))
z_n = sp.lambdify((thetaA, t), z_ana.subs({l : 1, g : 9.81}))


## SOLUTION

n_seconds = 10
n_frames = 300
t_n = np.linspace(0, n_seconds, n_frames)

fig, ax = plt.subplots(1, 1, figsize=(9.5, 3.5), constrained_layout=True)

ax.set_title("Zykloidenschüssel (analytische Lösung)", fontsize=20)
ax.set_xlabel(r'$x(t)$')
ax.set_ylabel(r'$z(t)$')
ax.set_xlim(-np.pi / 2, np.pi / 2)
ax.set_ylim(-1, 0)

ax.plot(x_n(-np.pi / 2, t_n), z_n(-np.pi / 2, t_n), 
        color='black')
ax.fill_between(x_n(-np.pi / 2, t_n), z_n(-np.pi / 2, t_n), 
                        y2=-1, color='black', alpha=0.1, zorder=2)


m1, = ax.plot([], [], 'o', markersize=10, color='blue', 
              label=r'$\theta_A=\frac{\pi}{3}$')
m2, = ax.plot([], [], 'o', markersize=10, color='purple',
              label=r'$\theta_A=\frac{\pi}{4}$')
m3, = ax.plot([], [], 'o', markersize=10, color='green',
              label=r'$\theta_A=\frac{\pi}{6}$')
m4, = ax.plot([], [], 'o', markersize=10, color='red',
              label=r'$\theta_A=\frac{\pi}{8}$')
ax.legend(loc="upper center", ncol=4, 
          fontsize=15, frameon=True)
ax.grid()
ax.set_aspect('equal')

# Der Faktor '2' im Nenner von fps streckt das
# Video zeitlich um einen Faktor 2.
fps = n_frames / (2 * n_seconds)
writer = ma.PillowWriter(fps=fps)

with writer.saving(fig, 'zykloide_analytisch.gif', dpi=100):
    for frame in range(n_frames):
        m1.set_data([x_n(np.pi / 3, t_n[frame])], 
                    [z_n(np.pi / 3, t_n[frame])]),
        m2.set_data([x_n(np.pi / 4, t_n[frame])], 
                    [z_n(np.pi / 4, t_n[frame])])
        m3.set_data([x_n(np.pi / 6, t_n[frame])], 
                    [z_n(np.pi / 6, t_n[frame])])
        m4.set_data([x_n(np.pi / 8, t_n[frame])], 
                    [z_n(np.pi / 8, t_n[frame])])

        writer.grab_frame()






