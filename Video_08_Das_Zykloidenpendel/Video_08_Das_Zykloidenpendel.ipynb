{
 "cells": [
  {
   "cell_type": "markdown",
   "id": "2d5c09e4-8ef3-4324-9705-1a0e7addee79",
   "metadata": {},
   "source": [
    "# Das Zykloidenpendel"
   ]
  },
  {
   "cell_type": "markdown",
   "id": "8d90bfbc-3de8-4f0b-ba56-8c241cc30e85",
   "metadata": {},
   "source": [
    "### Analogie zwischen Federpendel und Zykloidenschüssel?"
   ]
  },
  {
   "cell_type": "markdown",
   "id": "e895ff16-6a5f-40f9-a2ab-2a22fb6d28dd",
   "metadata": {},
   "source": [
    "<center><img src=\"figs/springs.png\" width=500></center>"
   ]
  },
  {
   "cell_type": "markdown",
   "id": "2ebfa678-378d-4700-9a79-135cc5f2d680",
   "metadata": {},
   "source": [
    "Bewegungsgleichung der harmonischen Schwingung, z.B. eines Federpendels:\n",
    "\n",
    "$$\n",
    "\\ddot{x}(t) = -\\omega^2 x(t)\n",
    "$$\n",
    "\n",
    "mit einer zeitabhängigen Variable $x(t)$ (Auslenkung der Feder aus der Ruhelage) und der *Schwingungsfrequenz* $\\omega$ (Schwingungsdauer $T=\\frac{2\\pi}{\\omega}$).\n",
    "\n",
    "Dies lässt sich auch als *die Beschleunigung der Auslenkung aus der Ruhelage* ist *proportional zur negativen Auslenkung aus der Ruhelage* interpretieren."
   ]
  },
  {
   "cell_type": "markdown",
   "id": "fd121f9e-f6a1-4f7f-a208-da09a0e9b853",
   "metadata": {},
   "source": [
    "<center><img src=\"figs/zykloide_bogenlaenge_sketch.png\" width=400></center>"
   ]
  },
  {
   "cell_type": "markdown",
   "id": "24646e88-428b-4d8d-ba46-6a7286b5427e",
   "metadata": {},
   "source": [
    "Bewegungsgleichung der Zykloidenschüssel für $\\theta(t)$ (Video 07):\n",
    "\n",
    "$$\n",
    "\\ddot{\\theta}{\\left(t \\right)} = \\left(- \\frac{g}{2 l} + \\dot{\\theta}(t)^{2}\\right) \\tan{\\left(\\theta{\\left(t \\right)} \\right)}\n",
    "$$\n",
    "\n",
    "Wir können eine Analogie zum Federpendel herstellen, wenn wir als Auslenkung die *Bogenlänge der Zykloidenbahn aus der Ruhelage* nehmen."
   ]
  },
  {
   "cell_type": "markdown",
   "id": "f361f219-d7db-452d-af2c-179c3300c02e",
   "metadata": {},
   "source": [
    "Das wollen wir tun:\n",
    "1. Bestimmung der Bogenlänge $s(\\theta)$ des Zykloidenbogens\n",
    "2. Formulierung der Bewegungsgleichung für $s(\\theta(t))$\n",
    "3. Analytische Lösung für $x(t)$ und $z(t)$"
   ]
  },
  {
   "cell_type": "code",
   "execution_count": null,
   "id": "9cbc966c-8614-420b-bba0-ff86713f2f11",
   "metadata": {},
   "outputs": [],
   "source": [
    "# Python-Module\n",
    "import numpy as np\n",
    "import matplotlib.pyplot as plt\n",
    "import matplotlib.animation as ma\n",
    "import sympy as sp"
   ]
  },
  {
   "cell_type": "code",
   "execution_count": null,
   "id": "1d077f4f-3529-41b0-a4b9-3621a0f781d8",
   "metadata": {},
   "outputs": [],
   "source": [
    "# notwendige SymPy-Symbole\n",
    "l, g = sp.symbols('l, g', real=True, positive=True)\n",
    "thetap, thetaA = sp.symbols(r\"\\theta', \\theta_A\", real=True)\n",
    "\n",
    "t = sp.symbols('t', real=True, positive=True)\n",
    "\n",
    "theta = sp.symbols(r'\\theta', cls=sp.Function)\n",
    "s = sp.symbols(r's', cls=sp.Function)\n",
    "\n",
    "theta = theta(t)\n",
    "s = s(t)"
   ]
  },
  {
   "cell_type": "markdown",
   "id": "612fa6a0-53d8-4c24-baea-bef3db1eb0eb",
   "metadata": {},
   "source": [
    "### 1. Bestimmung der Bogenlänge $s(t)$ als Funktion von $\\theta(t)$"
   ]
  },
  {
   "cell_type": "markdown",
   "id": "c3d21d1e-229e-4e37-a0fe-7e675715ca5a",
   "metadata": {},
   "source": [
    "<center><img src=\"figs/zykloide_wegelement_sketch.png\" width=400></center>"
   ]
  },
  {
   "cell_type": "markdown",
   "id": "5d34a28d-2fdb-4690-abbb-becf45e8611c",
   "metadata": {},
   "source": [
    "$$\n",
    "s_{AB} = \\int_A^B ds = \\int_A^B \\sqrt{dx^2 + dy^2} = \\int_{\\theta_A}^{\\theta_B}\\sqrt{\\left(\\frac{dx}{d\\theta'}\\right)^2 + \\left(\\frac{dz}{d\\theta'}\\right)^2}d\\theta'\n",
    "$$\n",
    "\n",
    "Setzen wir $s(0) = 0$, so ist $s(\\theta)$\n",
    "\n",
    "$$\n",
    "s(\\theta(t)) = \\int_{0}^{\\theta(t)}\\sqrt{\\left(\\frac{dx}{d\\theta'}\\right)^2 + \\left(\\frac{dz}{d\\theta'}\\right)^2}d\\theta'\n",
    "$$\n"
   ]
  },
  {
   "cell_type": "code",
   "execution_count": null,
   "id": "21a0cd59-f48e-4036-a03d-bdf9719357fe",
   "metadata": {},
   "outputs": [],
   "source": [
    "# Parametrisierung der Zykloide als Funktion von theta'\n",
    "x = (l / 2) * (2 * thetap + sp.sin(2 * thetap))\n",
    "z = (l / 2) * (-1 - sp.cos(2 * thetap))"
   ]
  },
  {
   "cell_type": "code",
   "execution_count": null,
   "id": "3c9163cc-c764-4e0e-8f59-29611b2fde33",
   "metadata": {},
   "outputs": [],
   "source": [
    "# Berechnung der Bogenlänge s(theta)\n",
    "i = sp.sqrt(x.diff(thetap)**2 + z.diff(thetap)**2).simplify().refine(sp.Q.positive(sp.cos(thetap)))\n",
    "s_eq = sp.Eq(s, sp.integrate(i, (thetap, 0, theta)))             \n",
    "s_eq"
   ]
  },
  {
   "cell_type": "code",
   "execution_count": null,
   "id": "1e211357-ae9e-435e-b533-49ede68787a4",
   "metadata": {},
   "outputs": [],
   "source": [
    "# Bestimmung von theta(s)\n",
    "theta_s = sp.solve(s_eq, theta)[1]\n",
    "theta_s"
   ]
  },
  {
   "cell_type": "markdown",
   "id": "1d4aea7a-422f-4cf4-96d5-51419080bffe",
   "metadata": {},
   "source": [
    "### 2. Bestimmung der Bewegungsgleichung für $s(t)$"
   ]
  },
  {
   "cell_type": "markdown",
   "id": "f59c130a-0ada-42e2-b330-c3c1e09ab387",
   "metadata": {},
   "source": [
    "Wir erhalten die Bewegungsgleichung für $s(t)$, indem wir $\\theta(t) = \\arcsin \\left(\\frac{s{\\left(t \\right)}}{2 l} \\right)$ in die Bewegungsgleichung\n",
    "\n",
    "$$\n",
    "\\ddot{\\theta}{\\left(t \\right)} = \\left(- \\frac{g}{2 l} + \\dot{\\theta}(t)^{2}\\right) \\tan{\\left(\\theta{\\left(t \\right)} \\right)}\n",
    "$$\n",
    "\n",
    "einsetzen."
   ]
  },
  {
   "cell_type": "code",
   "execution_count": null,
   "id": "dd088666-0b91-4d66-8320-7ba40c11afa9",
   "metadata": {},
   "outputs": [],
   "source": [
    "# Die Bewegungsgleichung für theta(t); siehe Video 07 der Reihe\n",
    "theta_d = sp.diff(theta, t)\n",
    "theta_dd = sp.diff(theta, t, 2)\n",
    "\n",
    "bgl = sp.Eq(theta_dd, (-g / (2 * l) + theta_d**2) * sp.tan(theta))\n",
    "bgl"
   ]
  },
  {
   "cell_type": "code",
   "execution_count": null,
   "id": "5fae29b3-5e85-4b16-a65c-7e90f9cb5fe4",
   "metadata": {},
   "outputs": [],
   "source": [
    "# Einsetzen von theta(s)\n",
    "bgl_s = bgl.subs({theta : theta_s}).doit()\n",
    "bgl_s"
   ]
  },
  {
   "cell_type": "code",
   "execution_count": null,
   "id": "232dc54f-8ad9-46e1-bc66-f4cdf21812f0",
   "metadata": {},
   "outputs": [],
   "source": [
    "# Auflösen nach der zweiten Zeitableitung von s\n",
    "# und Bestimmung der Bewegungsgleichung:\n",
    "s_dd = sp.diff(s, t, 2)\n",
    "\n",
    "dgl_s = sp.Eq(s_dd, sp.solve(bgl_s, s_dd)[0])\n",
    "dgl_s"
   ]
  },
  {
   "cell_type": "markdown",
   "id": "a223a8b5-c0df-48fd-987f-c88d9a1c58b0",
   "metadata": {},
   "source": [
    "### 3. Analytische Lösung der Bewegung in der Zykloidenschüssel"
   ]
  },
  {
   "cell_type": "markdown",
   "id": "9745e897-15c4-41e7-8ef4-935b7f5a1462",
   "metadata": {},
   "source": [
    "Wir bestimmen noch die analytische Lösung für $x(t)$ und $z(t)$"
   ]
  },
  {
   "cell_type": "code",
   "execution_count": null,
   "id": "f7fbec40-c674-4251-b6e3-520f49dbddf6",
   "metadata": {},
   "outputs": [],
   "source": [
    "# Analystische Lösung der DGL für s(t)\n",
    "s_ana = sp.dsolve(dgl_s)\n",
    "s_ana"
   ]
  },
  {
   "cell_type": "code",
   "execution_count": null,
   "id": "7d5f7c0b-e6be-4fc7-b584-4e2ce00c69f8",
   "metadata": {},
   "outputs": [],
   "source": [
    "# Anfangsbedingungen (initial conditions)\n",
    "ics={s.subs({t : 0}) : 2 * l * sp.sin(thetaA), s.diff(t).subs({t : 0}) : 0}\n",
    "ics"
   ]
  },
  {
   "cell_type": "code",
   "execution_count": null,
   "id": "4c5b9cba-6a81-4484-a1a8-1a754b70fa57",
   "metadata": {},
   "outputs": [],
   "source": [
    "# Lösung der DGL mit Anfangsbedingungen\n",
    "s_ana = sp.dsolve(dgl_s, ics=ics)\n",
    "s_ana"
   ]
  },
  {
   "cell_type": "code",
   "execution_count": null,
   "id": "22733961-e6d8-4910-afd4-ed7f95ef0f26",
   "metadata": {},
   "outputs": [],
   "source": [
    "# Lösung für theta(t) (s(t) aus der Bogenlänge einsetzen)\n",
    "theta_ana = sp.solve(s_ana.subs({s_eq.lhs : s_eq.rhs}), theta)[1]\n",
    "sp.Eq(theta, theta_ana)"
   ]
  },
  {
   "cell_type": "code",
   "execution_count": null,
   "id": "49c965a0-4fd7-40a2-9154-3eace69fcec6",
   "metadata": {},
   "outputs": [],
   "source": [
    "# analytische Lösung für x(t):\n",
    "x_ana = x.subs({thetap : theta_ana}).simplify()\n",
    "x_ana"
   ]
  },
  {
   "cell_type": "code",
   "execution_count": null,
   "id": "8785557f-256f-4d2b-b058-43c34d95a756",
   "metadata": {},
   "outputs": [],
   "source": [
    "# analytische Lösung für z(t):\n",
    "z_ana = z.subs({thetap : theta_ana}).simplify()\n",
    "z_ana"
   ]
  },
  {
   "cell_type": "markdown",
   "id": "39f8ec2f-03ee-430e-9c56-ba06793be967",
   "metadata": {},
   "source": [
    "!! SOLUTION\n",
    "\n",
    "### 4. Animation der analytischen Zykloidenbewegung\n",
    "\n",
    "Wir erstellen noch eine Animation der analytischen Lösung, um diese gegen die numerische Version aus Video 07 zu testen."
   ]
  },
  {
   "cell_type": "code",
   "execution_count": null,
   "id": "756a720d-2afb-495f-832a-37d70a8c9fc9",
   "metadata": {},
   "outputs": [],
   "source": [
    "## SOLUTION\n",
    "\n",
    "theta_n = sp.lambdify((thetaA, t), theta_ana.subs({l : 1, g : 9.81}))\n",
    "x_n = sp.lambdify((thetaA, t), x_ana.subs({l : 1, g : 9.81}))\n",
    "z_n = sp.lambdify((thetaA, t), z_ana.subs({l : 1, g : 9.81}))"
   ]
  },
  {
   "cell_type": "code",
   "execution_count": null,
   "id": "bdda6763-1394-41d7-b29c-df0e1491677d",
   "metadata": {},
   "outputs": [],
   "source": [
    "## SOLUTION\n",
    "\n",
    "n_seconds = 10\n",
    "n_frames = 300\n",
    "t_n = np.linspace(0, n_seconds, n_frames)\n",
    "\n",
    "fig, ax = plt.subplots(1, 1, figsize=(9.5, 3.5), constrained_layout=True)\n",
    "\n",
    "ax.set_title(\"Zykloidenschüssel (analytische Lösung)\", fontsize=20)\n",
    "ax.set_xlabel(r'$x(t)$')\n",
    "ax.set_ylabel(r'$z(t)$')\n",
    "ax.set_xlim(-np.pi / 2, np.pi / 2)\n",
    "ax.set_ylim(-1, 0)\n",
    "\n",
    "ax.plot(x_n(-np.pi / 2, t_n), z_n(-np.pi / 2, t_n), \n",
    "        color='black')\n",
    "ax.fill_between(x_n(-np.pi / 2, t_n), z_n(-np.pi / 2, t_n), \n",
    "                        y2=-1, color='black', alpha=0.1, zorder=2)\n",
    "\n",
    "\n",
    "m1, = ax.plot([], [], 'o', markersize=10, color='blue', \n",
    "              label=r'$\\theta_A=\\frac{\\pi}{3}$')\n",
    "m2, = ax.plot([], [], 'o', markersize=10, color='purple',\n",
    "              label=r'$\\theta_A=\\frac{\\pi}{4}$')\n",
    "m3, = ax.plot([], [], 'o', markersize=10, color='green',\n",
    "              label=r'$\\theta_A=\\frac{\\pi}{6}$')\n",
    "m4, = ax.plot([], [], 'o', markersize=10, color='red',\n",
    "              label=r'$\\theta_A=\\frac{\\pi}{8}$')\n",
    "ax.legend(loc=\"upper center\", ncol=4, \n",
    "          fontsize=15, frameon=True)\n",
    "ax.grid()\n",
    "ax.set_aspect('equal')\n",
    "\n",
    "# Der Faktor '2' im Nenner von fps streckt das\n",
    "# Video zeitlich um einen Faktor 2.\n",
    "fps = n_frames / (2 * n_seconds)\n",
    "writer = ma.PillowWriter(fps=fps)\n",
    "\n",
    "with writer.saving(fig, 'zykloide_analytisch.gif', dpi=100):\n",
    "    for frame in range(n_frames):\n",
    "        m1.set_data([x_n(np.pi / 3, t_n[frame])], \n",
    "                    [z_n(np.pi / 3, t_n[frame])]),\n",
    "        m2.set_data([x_n(np.pi / 4, t_n[frame])], \n",
    "                    [z_n(np.pi / 4, t_n[frame])])\n",
    "        m3.set_data([x_n(np.pi / 6, t_n[frame])], \n",
    "                    [z_n(np.pi / 6, t_n[frame])])\n",
    "        m4.set_data([x_n(np.pi / 8, t_n[frame])], \n",
    "                    [z_n(np.pi / 8, t_n[frame])])\n",
    "\n",
    "        writer.grab_frame()"
   ]
  },
  {
   "cell_type": "code",
   "execution_count": null,
   "id": "99e5391e-9eed-4a82-8224-551bae6d84e5",
   "metadata": {},
   "outputs": [],
   "source": []
  },
  {
   "cell_type": "code",
   "execution_count": null,
   "id": "81798671-fb0e-45bc-a703-3019a5d9a991",
   "metadata": {},
   "outputs": [],
   "source": []
  }
 ],
 "metadata": {
  "kernelspec": {
   "display_name": "Python 3 (ipykernel)",
   "language": "python",
   "name": "python3"
  },
  "language_info": {
   "codemirror_mode": {
    "name": "ipython",
    "version": 3
   },
   "file_extension": ".py",
   "mimetype": "text/x-python",
   "name": "python",
   "nbconvert_exporter": "python",
   "pygments_lexer": "ipython3",
   "version": "3.9.20"
  }
 },
 "nbformat": 4,
 "nbformat_minor": 5
}
